{
 "cells": [
  {
   "cell_type": "code",
   "execution_count": 1,
   "metadata": {},
   "outputs": [],
   "source": [
    "import pandas as pd\n",
    "import numpy as np\n",
    "import matplotlib.pyplot as plt\n",
    "import seaborn as sns\n",
    "import plotly.graph_objs as go\n",
    "import plotly.express as px\n",
    "\n",
    "from sklearn import model_selection\n",
    "from sklearn.preprocessing import StandardScaler\n",
    "from sklearn.ensemble import RandomForestRegressor\n",
    "from sklearn.model_selection import GridSearchCV\n",
    "from sklearn.decomposition import PCA\n",
    "from sklearn.metrics import mean_squared_error, mean_absolute_error, r2_score, mean_absolute_percentage_error\n",
    "\n",
    "import pickle\n",
    "\n",
    "import sys\n",
    "\n",
    "import glob"
   ]
  },
  {
   "attachments": {},
   "cell_type": "markdown",
   "metadata": {},
   "source": [
    "## Dataset elegido: big_data_5, el modelo base: Random Forest"
   ]
  },
  {
   "attachments": {},
   "cell_type": "markdown",
   "metadata": {},
   "source": [
    "### Abre el dataset elegido en el notebook \"baseline_models_comparison\""
   ]
  },
  {
   "cell_type": "code",
   "execution_count": 2,
   "metadata": {},
   "outputs": [
    {
     "data": {
      "text/html": [
       "<div>\n",
       "<style scoped>\n",
       "    .dataframe tbody tr th:only-of-type {\n",
       "        vertical-align: middle;\n",
       "    }\n",
       "\n",
       "    .dataframe tbody tr th {\n",
       "        vertical-align: top;\n",
       "    }\n",
       "\n",
       "    .dataframe thead th {\n",
       "        text-align: right;\n",
       "    }\n",
       "</style>\n",
       "<table border=\"1\" class=\"dataframe\">\n",
       "  <thead>\n",
       "    <tr style=\"text-align: right;\">\n",
       "      <th></th>\n",
       "      <th>id</th>\n",
       "      <th>minimum_nights</th>\n",
       "      <th>idealista_rental(EUR/m2/month)</th>\n",
       "      <th>ine_num_vacation_rental</th>\n",
       "      <th>calculated_host_listings_count</th>\n",
       "      <th>ine_num_tourists_vacation_rental</th>\n",
       "      <th>reviews_per_month</th>\n",
       "      <th>ine_percent_vacation_rental</th>\n",
       "      <th>idealista_sell(EUR/m2)</th>\n",
       "      <th>availability_365</th>\n",
       "      <th>...</th>\n",
       "      <th>license</th>\n",
       "      <th>last_review</th>\n",
       "      <th>onehot__state_Andalucía</th>\n",
       "      <th>onehot__state_Cataluña</th>\n",
       "      <th>onehot__state_Comunidad Valenciana</th>\n",
       "      <th>onehot__state_Comunidad de Madrid</th>\n",
       "      <th>onehot__state_Islas Baleares</th>\n",
       "      <th>onehot__state_La Rioja</th>\n",
       "      <th>onehot__state_País Vasco</th>\n",
       "      <th>price</th>\n",
       "    </tr>\n",
       "  </thead>\n",
       "  <tbody>\n",
       "    <tr>\n",
       "      <th>0</th>\n",
       "      <td>18674</td>\n",
       "      <td>1</td>\n",
       "      <td>14.7</td>\n",
       "      <td>49265</td>\n",
       "      <td>20</td>\n",
       "      <td>63894</td>\n",
       "      <td>0.28</td>\n",
       "      <td>1.28</td>\n",
       "      <td>2328</td>\n",
       "      <td>264</td>\n",
       "      <td>...</td>\n",
       "      <td>1.0</td>\n",
       "      <td>1.0</td>\n",
       "      <td>0.0</td>\n",
       "      <td>1.0</td>\n",
       "      <td>0.0</td>\n",
       "      <td>0.0</td>\n",
       "      <td>0.0</td>\n",
       "      <td>0.0</td>\n",
       "      <td>0.0</td>\n",
       "      <td>129</td>\n",
       "    </tr>\n",
       "    <tr>\n",
       "      <th>1</th>\n",
       "      <td>23197</td>\n",
       "      <td>4</td>\n",
       "      <td>14.7</td>\n",
       "      <td>49265</td>\n",
       "      <td>2</td>\n",
       "      <td>63894</td>\n",
       "      <td>0.45</td>\n",
       "      <td>1.28</td>\n",
       "      <td>2328</td>\n",
       "      <td>255</td>\n",
       "      <td>...</td>\n",
       "      <td>1.0</td>\n",
       "      <td>1.0</td>\n",
       "      <td>0.0</td>\n",
       "      <td>1.0</td>\n",
       "      <td>0.0</td>\n",
       "      <td>0.0</td>\n",
       "      <td>0.0</td>\n",
       "      <td>0.0</td>\n",
       "      <td>0.0</td>\n",
       "      <td>195</td>\n",
       "    </tr>\n",
       "    <tr>\n",
       "      <th>2</th>\n",
       "      <td>32711</td>\n",
       "      <td>2</td>\n",
       "      <td>14.7</td>\n",
       "      <td>49265</td>\n",
       "      <td>3</td>\n",
       "      <td>63894</td>\n",
       "      <td>0.60</td>\n",
       "      <td>1.28</td>\n",
       "      <td>2328</td>\n",
       "      <td>276</td>\n",
       "      <td>...</td>\n",
       "      <td>1.0</td>\n",
       "      <td>1.0</td>\n",
       "      <td>0.0</td>\n",
       "      <td>1.0</td>\n",
       "      <td>0.0</td>\n",
       "      <td>0.0</td>\n",
       "      <td>0.0</td>\n",
       "      <td>0.0</td>\n",
       "      <td>0.0</td>\n",
       "      <td>73</td>\n",
       "    </tr>\n",
       "    <tr>\n",
       "      <th>3</th>\n",
       "      <td>34981</td>\n",
       "      <td>5</td>\n",
       "      <td>14.7</td>\n",
       "      <td>49265</td>\n",
       "      <td>1</td>\n",
       "      <td>63894</td>\n",
       "      <td>1.28</td>\n",
       "      <td>1.28</td>\n",
       "      <td>2328</td>\n",
       "      <td>139</td>\n",
       "      <td>...</td>\n",
       "      <td>1.0</td>\n",
       "      <td>1.0</td>\n",
       "      <td>0.0</td>\n",
       "      <td>1.0</td>\n",
       "      <td>0.0</td>\n",
       "      <td>0.0</td>\n",
       "      <td>0.0</td>\n",
       "      <td>0.0</td>\n",
       "      <td>0.0</td>\n",
       "      <td>174</td>\n",
       "    </tr>\n",
       "    <tr>\n",
       "      <th>4</th>\n",
       "      <td>36763</td>\n",
       "      <td>31</td>\n",
       "      <td>14.7</td>\n",
       "      <td>49265</td>\n",
       "      <td>1</td>\n",
       "      <td>63894</td>\n",
       "      <td>0.76</td>\n",
       "      <td>1.28</td>\n",
       "      <td>2328</td>\n",
       "      <td>259</td>\n",
       "      <td>...</td>\n",
       "      <td>0.0</td>\n",
       "      <td>1.0</td>\n",
       "      <td>0.0</td>\n",
       "      <td>1.0</td>\n",
       "      <td>0.0</td>\n",
       "      <td>0.0</td>\n",
       "      <td>0.0</td>\n",
       "      <td>0.0</td>\n",
       "      <td>0.0</td>\n",
       "      <td>36</td>\n",
       "    </tr>\n",
       "  </tbody>\n",
       "</table>\n",
       "<p>5 rows × 23 columns</p>\n",
       "</div>"
      ],
      "text/plain": [
       "      id  minimum_nights  idealista_rental(EUR/m2/month)  \\\n",
       "0  18674               1                            14.7   \n",
       "1  23197               4                            14.7   \n",
       "2  32711               2                            14.7   \n",
       "3  34981               5                            14.7   \n",
       "4  36763              31                            14.7   \n",
       "\n",
       "   ine_num_vacation_rental  calculated_host_listings_count  \\\n",
       "0                    49265                              20   \n",
       "1                    49265                               2   \n",
       "2                    49265                               3   \n",
       "3                    49265                               1   \n",
       "4                    49265                               1   \n",
       "\n",
       "   ine_num_tourists_vacation_rental  reviews_per_month  \\\n",
       "0                             63894               0.28   \n",
       "1                             63894               0.45   \n",
       "2                             63894               0.60   \n",
       "3                             63894               1.28   \n",
       "4                             63894               0.76   \n",
       "\n",
       "   ine_percent_vacation_rental  idealista_sell(EUR/m2)  availability_365  ...  \\\n",
       "0                         1.28                    2328               264  ...   \n",
       "1                         1.28                    2328               255  ...   \n",
       "2                         1.28                    2328               276  ...   \n",
       "3                         1.28                    2328               139  ...   \n",
       "4                         1.28                    2328               259  ...   \n",
       "\n",
       "   license  last_review  onehot__state_Andalucía  onehot__state_Cataluña  \\\n",
       "0      1.0          1.0                      0.0                     1.0   \n",
       "1      1.0          1.0                      0.0                     1.0   \n",
       "2      1.0          1.0                      0.0                     1.0   \n",
       "3      1.0          1.0                      0.0                     1.0   \n",
       "4      0.0          1.0                      0.0                     1.0   \n",
       "\n",
       "   onehot__state_Comunidad Valenciana  onehot__state_Comunidad de Madrid  \\\n",
       "0                                 0.0                                0.0   \n",
       "1                                 0.0                                0.0   \n",
       "2                                 0.0                                0.0   \n",
       "3                                 0.0                                0.0   \n",
       "4                                 0.0                                0.0   \n",
       "\n",
       "   onehot__state_Islas Baleares  onehot__state_La Rioja  \\\n",
       "0                           0.0                     0.0   \n",
       "1                           0.0                     0.0   \n",
       "2                           0.0                     0.0   \n",
       "3                           0.0                     0.0   \n",
       "4                           0.0                     0.0   \n",
       "\n",
       "   onehot__state_País Vasco  price  \n",
       "0                       0.0    129  \n",
       "1                       0.0    195  \n",
       "2                       0.0     73  \n",
       "3                       0.0    174  \n",
       "4                       0.0     36  \n",
       "\n",
       "[5 rows x 23 columns]"
      ]
     },
     "execution_count": 2,
     "metadata": {},
     "output_type": "execute_result"
    }
   ],
   "source": [
    "big_data_5 = pd.read_csv(\"../data/output_data_5/big_data_no_outliers_cols_3.csv\")\n",
    "big_data_5 = big_data_5.drop([\"Unnamed: 0\"], axis=1)\n",
    "# big_data_5 = big_data_5.rename({\"bathrooms_text\": \"no_of_bathrooms\"}, axis=1)\n",
    "big_data_5.head()"
   ]
  },
  {
   "cell_type": "code",
   "execution_count": 3,
   "metadata": {},
   "outputs": [
    {
     "name": "stdout",
     "output_type": "stream",
     "text": [
      "<class 'pandas.core.frame.DataFrame'>\n",
      "RangeIndex: 90577 entries, 0 to 90576\n",
      "Data columns (total 23 columns):\n",
      " #   Column                              Non-Null Count  Dtype  \n",
      "---  ------                              --------------  -----  \n",
      " 0   id                                  90577 non-null  int64  \n",
      " 1   minimum_nights                      90577 non-null  int64  \n",
      " 2   idealista_rental(EUR/m2/month)      90577 non-null  float64\n",
      " 3   ine_num_vacation_rental             90577 non-null  int64  \n",
      " 4   calculated_host_listings_count      90577 non-null  int64  \n",
      " 5   ine_num_tourists_vacation_rental    90577 non-null  int64  \n",
      " 6   reviews_per_month                   90577 non-null  float64\n",
      " 7   ine_percent_vacation_rental         90577 non-null  float64\n",
      " 8   idealista_sell(EUR/m2)              90577 non-null  int64  \n",
      " 9   availability_365                    90577 non-null  int64  \n",
      " 10  number_of_reviews_ltm               90577 non-null  int64  \n",
      " 11  number_of_reviews                   90577 non-null  int64  \n",
      " 12  room_type                           90577 non-null  float64\n",
      " 13  license                             90577 non-null  float64\n",
      " 14  last_review                         90577 non-null  float64\n",
      " 15  onehot__state_Andalucía             90577 non-null  float64\n",
      " 16  onehot__state_Cataluña              90577 non-null  float64\n",
      " 17  onehot__state_Comunidad Valenciana  90577 non-null  float64\n",
      " 18  onehot__state_Comunidad de Madrid   90577 non-null  float64\n",
      " 19  onehot__state_Islas Baleares        90577 non-null  float64\n",
      " 20  onehot__state_La Rioja              90577 non-null  float64\n",
      " 21  onehot__state_País Vasco            90577 non-null  float64\n",
      " 22  price                               90577 non-null  int64  \n",
      "dtypes: float64(13), int64(10)\n",
      "memory usage: 15.9 MB\n"
     ]
    }
   ],
   "source": [
    "big_data_5.info()"
   ]
  },
  {
   "cell_type": "code",
   "execution_count": null,
   "metadata": {},
   "outputs": [],
   "source": []
  },
  {
   "attachments": {},
   "cell_type": "markdown",
   "metadata": {},
   "source": [
    "## 1) Optimización del RandomForest con el Grid Search"
   ]
  },
  {
   "attachments": {},
   "cell_type": "markdown",
   "metadata": {},
   "source": [
    "### Búsqueda de mejores hiperparámetros (tarda approx 15 min.)"
   ]
  },
  {
   "cell_type": "code",
   "execution_count": 4,
   "metadata": {},
   "outputs": [
    {
     "data": {
      "text/html": [
       "<style>#sk-container-id-1 {color: black;background-color: white;}#sk-container-id-1 pre{padding: 0;}#sk-container-id-1 div.sk-toggleable {background-color: white;}#sk-container-id-1 label.sk-toggleable__label {cursor: pointer;display: block;width: 100%;margin-bottom: 0;padding: 0.3em;box-sizing: border-box;text-align: center;}#sk-container-id-1 label.sk-toggleable__label-arrow:before {content: \"▸\";float: left;margin-right: 0.25em;color: #696969;}#sk-container-id-1 label.sk-toggleable__label-arrow:hover:before {color: black;}#sk-container-id-1 div.sk-estimator:hover label.sk-toggleable__label-arrow:before {color: black;}#sk-container-id-1 div.sk-toggleable__content {max-height: 0;max-width: 0;overflow: hidden;text-align: left;background-color: #f0f8ff;}#sk-container-id-1 div.sk-toggleable__content pre {margin: 0.2em;color: black;border-radius: 0.25em;background-color: #f0f8ff;}#sk-container-id-1 input.sk-toggleable__control:checked~div.sk-toggleable__content {max-height: 200px;max-width: 100%;overflow: auto;}#sk-container-id-1 input.sk-toggleable__control:checked~label.sk-toggleable__label-arrow:before {content: \"▾\";}#sk-container-id-1 div.sk-estimator input.sk-toggleable__control:checked~label.sk-toggleable__label {background-color: #d4ebff;}#sk-container-id-1 div.sk-label input.sk-toggleable__control:checked~label.sk-toggleable__label {background-color: #d4ebff;}#sk-container-id-1 input.sk-hidden--visually {border: 0;clip: rect(1px 1px 1px 1px);clip: rect(1px, 1px, 1px, 1px);height: 1px;margin: -1px;overflow: hidden;padding: 0;position: absolute;width: 1px;}#sk-container-id-1 div.sk-estimator {font-family: monospace;background-color: #f0f8ff;border: 1px dotted black;border-radius: 0.25em;box-sizing: border-box;margin-bottom: 0.5em;}#sk-container-id-1 div.sk-estimator:hover {background-color: #d4ebff;}#sk-container-id-1 div.sk-parallel-item::after {content: \"\";width: 100%;border-bottom: 1px solid gray;flex-grow: 1;}#sk-container-id-1 div.sk-label:hover label.sk-toggleable__label {background-color: #d4ebff;}#sk-container-id-1 div.sk-serial::before {content: \"\";position: absolute;border-left: 1px solid gray;box-sizing: border-box;top: 0;bottom: 0;left: 50%;z-index: 0;}#sk-container-id-1 div.sk-serial {display: flex;flex-direction: column;align-items: center;background-color: white;padding-right: 0.2em;padding-left: 0.2em;position: relative;}#sk-container-id-1 div.sk-item {position: relative;z-index: 1;}#sk-container-id-1 div.sk-parallel {display: flex;align-items: stretch;justify-content: center;background-color: white;position: relative;}#sk-container-id-1 div.sk-item::before, #sk-container-id-1 div.sk-parallel-item::before {content: \"\";position: absolute;border-left: 1px solid gray;box-sizing: border-box;top: 0;bottom: 0;left: 50%;z-index: -1;}#sk-container-id-1 div.sk-parallel-item {display: flex;flex-direction: column;z-index: 1;position: relative;background-color: white;}#sk-container-id-1 div.sk-parallel-item:first-child::after {align-self: flex-end;width: 50%;}#sk-container-id-1 div.sk-parallel-item:last-child::after {align-self: flex-start;width: 50%;}#sk-container-id-1 div.sk-parallel-item:only-child::after {width: 0;}#sk-container-id-1 div.sk-dashed-wrapped {border: 1px dashed gray;margin: 0 0.4em 0.5em 0.4em;box-sizing: border-box;padding-bottom: 0.4em;background-color: white;}#sk-container-id-1 div.sk-label label {font-family: monospace;font-weight: bold;display: inline-block;line-height: 1.2em;}#sk-container-id-1 div.sk-label-container {text-align: center;}#sk-container-id-1 div.sk-container {/* jupyter's `normalize.less` sets `[hidden] { display: none; }` but bootstrap.min.css set `[hidden] { display: none !important; }` so we also need the `!important` here to be able to override the default hidden behavior on the sphinx rendered scikit-learn.org. See: https://github.com/scikit-learn/scikit-learn/issues/21755 */display: inline-block !important;position: relative;}#sk-container-id-1 div.sk-text-repr-fallback {display: none;}</style><div id=\"sk-container-id-1\" class=\"sk-top-container\"><div class=\"sk-text-repr-fallback\"><pre>GridSearchCV(cv=5, estimator=RandomForestRegressor(random_state=42), n_jobs=-1,\n",
       "             param_grid={&#x27;max_depth&#x27;: [10, 20, 30, None],\n",
       "                         &#x27;min_samples_leaf&#x27;: [1, 2, 4],\n",
       "                         &#x27;min_samples_split&#x27;: [2, 5, 10],\n",
       "                         &#x27;n_estimators&#x27;: [150, 200, 250, 300, 350, 400, 450,\n",
       "                                          500]})</pre><b>In a Jupyter environment, please rerun this cell to show the HTML representation or trust the notebook. <br />On GitHub, the HTML representation is unable to render, please try loading this page with nbviewer.org.</b></div><div class=\"sk-container\" hidden><div class=\"sk-item sk-dashed-wrapped\"><div class=\"sk-label-container\"><div class=\"sk-label sk-toggleable\"><input class=\"sk-toggleable__control sk-hidden--visually\" id=\"sk-estimator-id-1\" type=\"checkbox\" ><label for=\"sk-estimator-id-1\" class=\"sk-toggleable__label sk-toggleable__label-arrow\">GridSearchCV</label><div class=\"sk-toggleable__content\"><pre>GridSearchCV(cv=5, estimator=RandomForestRegressor(random_state=42), n_jobs=-1,\n",
       "             param_grid={&#x27;max_depth&#x27;: [10, 20, 30, None],\n",
       "                         &#x27;min_samples_leaf&#x27;: [1, 2, 4],\n",
       "                         &#x27;min_samples_split&#x27;: [2, 5, 10],\n",
       "                         &#x27;n_estimators&#x27;: [150, 200, 250, 300, 350, 400, 450,\n",
       "                                          500]})</pre></div></div></div><div class=\"sk-parallel\"><div class=\"sk-parallel-item\"><div class=\"sk-item\"><div class=\"sk-label-container\"><div class=\"sk-label sk-toggleable\"><input class=\"sk-toggleable__control sk-hidden--visually\" id=\"sk-estimator-id-2\" type=\"checkbox\" ><label for=\"sk-estimator-id-2\" class=\"sk-toggleable__label sk-toggleable__label-arrow\">estimator: RandomForestRegressor</label><div class=\"sk-toggleable__content\"><pre>RandomForestRegressor(random_state=42)</pre></div></div></div><div class=\"sk-serial\"><div class=\"sk-item\"><div class=\"sk-estimator sk-toggleable\"><input class=\"sk-toggleable__control sk-hidden--visually\" id=\"sk-estimator-id-3\" type=\"checkbox\" ><label for=\"sk-estimator-id-3\" class=\"sk-toggleable__label sk-toggleable__label-arrow\">RandomForestRegressor</label><div class=\"sk-toggleable__content\"><pre>RandomForestRegressor(random_state=42)</pre></div></div></div></div></div></div></div></div></div></div>"
      ],
      "text/plain": [
       "GridSearchCV(cv=5, estimator=RandomForestRegressor(random_state=42), n_jobs=-1,\n",
       "             param_grid={'max_depth': [10, 20, 30, None],\n",
       "                         'min_samples_leaf': [1, 2, 4],\n",
       "                         'min_samples_split': [2, 5, 10],\n",
       "                         'n_estimators': [150, 200, 250, 300, 350, 400, 450,\n",
       "                                          500]})"
      ]
     },
     "execution_count": 4,
     "metadata": {},
     "output_type": "execute_result"
    }
   ],
   "source": [
    "# X = big_data_5.iloc[:, 1:-1]\n",
    "# y = big_data_5[\"price\"]\n",
    "\n",
    "# # Split the data into train and test\n",
    "# X_train, X_test, y_train, y_test = model_selection.train_test_split(X,\n",
    "#                                                                     y,\n",
    "#                                                                     test_size=0.20,\n",
    "#                                                                     random_state=42)\n",
    "\n",
    "# # Standardize the data\n",
    "# scaler = StandardScaler()\n",
    "# scaler.fit(X_train)\n",
    "# X_train_scaled = scaler.transform(X_train)\n",
    "# X_test_scaled = scaler.transform(X_test)\n",
    "\n",
    "# # Define the parameter grid to search over\n",
    "# param_grid = {\n",
    "#     'n_estimators': [150, 200, 250, 300, 350, 400, 450, 500],\n",
    "#     'max_depth': [10, 20, 30, None],\n",
    "#     'min_samples_split': [2, 5, 10],\n",
    "#     'min_samples_leaf': [1, 2, 4]\n",
    "# }\n",
    "\n",
    "# # Create a RandomForestRegressor\n",
    "# rf = RandomForestRegressor(random_state=42)\n",
    "\n",
    "# # Use GridSearchCV to search over the parameter grid\n",
    "# grid_search = GridSearchCV(rf, param_grid=param_grid, cv=5, n_jobs=-1)\n",
    "\n",
    "# # Fit the model on the training data\n",
    "# grid_search.fit(X_train_scaled, y_train)"
   ]
  },
  {
   "cell_type": "code",
   "execution_count": 5,
   "metadata": {},
   "outputs": [
    {
     "name": "stdout",
     "output_type": "stream",
     "text": [
      "Best parameters:  {'max_depth': 20, 'min_samples_leaf': 1, 'min_samples_split': 2, 'n_estimators': 250}\n",
      "Best score:  0.5210554938086494\n"
     ]
    }
   ],
   "source": [
    "# # Print the best parameters and the best score\n",
    "# print(\"Best parameters: \", grid_search.best_params_)\n",
    "# print(\"Best score: \", grid_search.best_score_)"
   ]
  },
  {
   "attachments": {},
   "cell_type": "markdown",
   "metadata": {},
   "source": [
    "GridSearch Best Parameters and Score:\n",
    "- Best parameters:  {'max_depth': 20, 'min_samples_leaf': 1, 'min_samples_split': 2, 'n_estimators': 250}\n",
    "- Best score:  0.5210554938086494\n",
    "\n",
    "Voy a probar estos hiperparámetros"
   ]
  },
  {
   "cell_type": "code",
   "execution_count": 16,
   "metadata": {},
   "outputs": [
    {
     "name": "stderr",
     "output_type": "stream",
     "text": [
      "c:\\Users\\Selvie\\OneDrive\\SELVIE\\Lifelong Learning\\The Bridge - Data Science Bootcamp\\MyCode\\3-Machine_Learning\\Entrega\\Proyecto ML\\Airbnb\\notebooks\\../functions\\run_baseline_model.py:68: FutureWarning: The frame.append method is deprecated and will be removed from pandas in a future version. Use pandas.concat instead.\n",
      "  metrics_df = metrics_df.append(pd.Series(metrics_test, index=metrics_df.columns), ignore_index=True)\n",
      "c:\\Users\\Selvie\\OneDrive\\SELVIE\\Lifelong Learning\\The Bridge - Data Science Bootcamp\\MyCode\\3-Machine_Learning\\Entrega\\Proyecto ML\\Airbnb\\notebooks\\../functions\\run_baseline_model.py:69: FutureWarning: The frame.append method is deprecated and will be removed from pandas in a future version. Use pandas.concat instead.\n",
      "  metrics_df = metrics_df.append(pd.Series(metrics_train, index=metrics_df.columns), ignore_index=True)\n"
     ]
    },
    {
     "data": {
      "text/plain": [
       "(Pipeline(steps=[('scaler', StandardScaler()),\n",
       "                 ('model',\n",
       "                  RandomForestRegressor(max_depth=20, n_estimators=250,\n",
       "                                        random_state=42))]),\n",
       "                 Model          MSE       RMSE        MAE       MAPE        R2\n",
       " 0   RandomForest_Test  3004.271876  54.811239  39.936086  41.865388  0.397212\n",
       " 1  RandomForest_Train  1176.504183  34.300207  24.227952  25.038833  0.766427)"
      ]
     },
     "execution_count": 16,
     "metadata": {},
     "output_type": "execute_result"
    }
   ],
   "source": [
    "sys.path.insert(0, '../functions')\n",
    "import run_baseline_model as bm\n",
    "\n",
    "\n",
    "bm.train_random_forest(X=big_data_5.iloc[:, 1:-1], y=big_data_5[\"price\"], random_state=42, \n",
    "                       max_depth=20,\n",
    "                       min_samples_leaf=1,\n",
    "                       min_samples_split=2,\n",
    "                       n_estimators=250,\n",
    "                       path1=\"../data/output_optimization/big/baseline_feature_importances.csv\",\n",
    "                       path2=\"../data/output_optimization/big/metrics_1.csv\")"
   ]
  },
  {
   "cell_type": "code",
   "execution_count": 17,
   "metadata": {},
   "outputs": [
    {
     "data": {
      "text/html": [
       "<div>\n",
       "<style scoped>\n",
       "    .dataframe tbody tr th:only-of-type {\n",
       "        vertical-align: middle;\n",
       "    }\n",
       "\n",
       "    .dataframe tbody tr th {\n",
       "        vertical-align: top;\n",
       "    }\n",
       "\n",
       "    .dataframe thead th {\n",
       "        text-align: right;\n",
       "    }\n",
       "</style>\n",
       "<table border=\"1\" class=\"dataframe\">\n",
       "  <thead>\n",
       "    <tr style=\"text-align: right;\">\n",
       "      <th></th>\n",
       "      <th>Model</th>\n",
       "      <th>MSE</th>\n",
       "      <th>RMSE</th>\n",
       "      <th>MAE</th>\n",
       "      <th>MAPE</th>\n",
       "      <th>R2</th>\n",
       "    </tr>\n",
       "  </thead>\n",
       "  <tbody>\n",
       "    <tr>\n",
       "      <th>0</th>\n",
       "      <td>RandomForest</td>\n",
       "      <td>3101.82247</td>\n",
       "      <td>55.694007</td>\n",
       "      <td>40.526673</td>\n",
       "      <td>0.424958</td>\n",
       "      <td>0.377639</td>\n",
       "    </tr>\n",
       "  </tbody>\n",
       "</table>\n",
       "</div>"
      ],
      "text/plain": [
       "          Model         MSE       RMSE        MAE      MAPE        R2\n",
       "0  RandomForest  3101.82247  55.694007  40.526673  0.424958  0.377639"
      ]
     },
     "execution_count": 17,
     "metadata": {},
     "output_type": "execute_result"
    }
   ],
   "source": [
    "# Abre las métricas del modelo base\n",
    "res_big_5 = pd.read_csv(\"../data/output_data_5/metrics_big_data_no_outliers_cols_3.csv\")\n",
    "res_big_5[res_big_5[\"MAE\"] == (res_big_5[\"MAE\"].min())]"
   ]
  },
  {
   "attachments": {},
   "cell_type": "markdown",
   "metadata": {},
   "source": [
    "Comentario:\n",
    "- Se ve que el RMSE de \"test\" ha bajado del 55.69 (baseline) al 54.81 y el MAE de \"test\" ha bajado del 40.52 (baseline) al 39.94 (sobre el precio promedio: 99 EUR/noche). Aunque las métricas han mejorado, pero no es una mejora significativa.\n",
    "- En el modelo optimizado, los datos de \"train\" demuestran un buen rendimiento. \n",
    "- Quizás si tuviese más datos para entrenar, se podría mejorar el modelo."
   ]
  },
  {
   "cell_type": "code",
   "execution_count": null,
   "metadata": {},
   "outputs": [],
   "source": []
  },
  {
   "attachments": {},
   "cell_type": "markdown",
   "metadata": {},
   "source": [
    "## 2) Optimización del RandomForest con el Feature Importance"
   ]
  },
  {
   "cell_type": "code",
   "execution_count": 18,
   "metadata": {},
   "outputs": [
    {
     "data": {
      "text/html": [
       "<div>\n",
       "<style scoped>\n",
       "    .dataframe tbody tr th:only-of-type {\n",
       "        vertical-align: middle;\n",
       "    }\n",
       "\n",
       "    .dataframe tbody tr th {\n",
       "        vertical-align: top;\n",
       "    }\n",
       "\n",
       "    .dataframe thead th {\n",
       "        text-align: right;\n",
       "    }\n",
       "</style>\n",
       "<table border=\"1\" class=\"dataframe\">\n",
       "  <thead>\n",
       "    <tr style=\"text-align: right;\">\n",
       "      <th></th>\n",
       "      <th>Feature</th>\n",
       "      <th>Importance</th>\n",
       "    </tr>\n",
       "  </thead>\n",
       "  <tbody>\n",
       "    <tr>\n",
       "      <th>0</th>\n",
       "      <td>room_type</td>\n",
       "      <td>2.163258e-01</td>\n",
       "    </tr>\n",
       "    <tr>\n",
       "      <th>1</th>\n",
       "      <td>availability_365</td>\n",
       "      <td>1.712373e-01</td>\n",
       "    </tr>\n",
       "    <tr>\n",
       "      <th>2</th>\n",
       "      <td>calculated_host_listings_count</td>\n",
       "      <td>1.516744e-01</td>\n",
       "    </tr>\n",
       "    <tr>\n",
       "      <th>3</th>\n",
       "      <td>reviews_per_month</td>\n",
       "      <td>1.324710e-01</td>\n",
       "    </tr>\n",
       "    <tr>\n",
       "      <th>4</th>\n",
       "      <td>number_of_reviews</td>\n",
       "      <td>8.045867e-02</td>\n",
       "    </tr>\n",
       "    <tr>\n",
       "      <th>5</th>\n",
       "      <td>minimum_nights</td>\n",
       "      <td>7.503091e-02</td>\n",
       "    </tr>\n",
       "    <tr>\n",
       "      <th>6</th>\n",
       "      <td>ine_num_tourists_vacation_rental</td>\n",
       "      <td>5.415054e-02</td>\n",
       "    </tr>\n",
       "    <tr>\n",
       "      <th>7</th>\n",
       "      <td>number_of_reviews_ltm</td>\n",
       "      <td>5.304814e-02</td>\n",
       "    </tr>\n",
       "    <tr>\n",
       "      <th>8</th>\n",
       "      <td>license</td>\n",
       "      <td>2.188103e-02</td>\n",
       "    </tr>\n",
       "    <tr>\n",
       "      <th>9</th>\n",
       "      <td>last_review</td>\n",
       "      <td>1.092021e-02</td>\n",
       "    </tr>\n",
       "    <tr>\n",
       "      <th>10</th>\n",
       "      <td>onehot__state_Cataluña</td>\n",
       "      <td>8.470120e-03</td>\n",
       "    </tr>\n",
       "    <tr>\n",
       "      <th>11</th>\n",
       "      <td>idealista_rental(EUR/m2/month)</td>\n",
       "      <td>4.998885e-03</td>\n",
       "    </tr>\n",
       "    <tr>\n",
       "      <th>12</th>\n",
       "      <td>idealista_sell(EUR/m2)</td>\n",
       "      <td>4.568725e-03</td>\n",
       "    </tr>\n",
       "    <tr>\n",
       "      <th>13</th>\n",
       "      <td>ine_percent_vacation_rental</td>\n",
       "      <td>4.316830e-03</td>\n",
       "    </tr>\n",
       "    <tr>\n",
       "      <th>14</th>\n",
       "      <td>ine_num_vacation_rental</td>\n",
       "      <td>4.085551e-03</td>\n",
       "    </tr>\n",
       "    <tr>\n",
       "      <th>15</th>\n",
       "      <td>onehot__state_Comunidad de Madrid</td>\n",
       "      <td>1.613134e-03</td>\n",
       "    </tr>\n",
       "    <tr>\n",
       "      <th>16</th>\n",
       "      <td>onehot__state_Islas Baleares</td>\n",
       "      <td>1.482396e-03</td>\n",
       "    </tr>\n",
       "    <tr>\n",
       "      <th>17</th>\n",
       "      <td>onehot__state_País Vasco</td>\n",
       "      <td>1.331817e-03</td>\n",
       "    </tr>\n",
       "    <tr>\n",
       "      <th>18</th>\n",
       "      <td>onehot__state_Andalucía</td>\n",
       "      <td>1.053462e-03</td>\n",
       "    </tr>\n",
       "    <tr>\n",
       "      <th>19</th>\n",
       "      <td>onehot__state_Comunidad Valenciana</td>\n",
       "      <td>8.807814e-04</td>\n",
       "    </tr>\n",
       "    <tr>\n",
       "      <th>20</th>\n",
       "      <td>onehot__state_La Rioja</td>\n",
       "      <td>2.828653e-07</td>\n",
       "    </tr>\n",
       "  </tbody>\n",
       "</table>\n",
       "</div>"
      ],
      "text/plain": [
       "                               Feature    Importance\n",
       "0                            room_type  2.163258e-01\n",
       "1                     availability_365  1.712373e-01\n",
       "2       calculated_host_listings_count  1.516744e-01\n",
       "3                    reviews_per_month  1.324710e-01\n",
       "4                    number_of_reviews  8.045867e-02\n",
       "5                       minimum_nights  7.503091e-02\n",
       "6     ine_num_tourists_vacation_rental  5.415054e-02\n",
       "7                number_of_reviews_ltm  5.304814e-02\n",
       "8                              license  2.188103e-02\n",
       "9                          last_review  1.092021e-02\n",
       "10              onehot__state_Cataluña  8.470120e-03\n",
       "11      idealista_rental(EUR/m2/month)  4.998885e-03\n",
       "12              idealista_sell(EUR/m2)  4.568725e-03\n",
       "13         ine_percent_vacation_rental  4.316830e-03\n",
       "14             ine_num_vacation_rental  4.085551e-03\n",
       "15   onehot__state_Comunidad de Madrid  1.613134e-03\n",
       "16        onehot__state_Islas Baleares  1.482396e-03\n",
       "17            onehot__state_País Vasco  1.331817e-03\n",
       "18             onehot__state_Andalucía  1.053462e-03\n",
       "19  onehot__state_Comunidad Valenciana  8.807814e-04\n",
       "20              onehot__state_La Rioja  2.828653e-07"
      ]
     },
     "execution_count": 18,
     "metadata": {},
     "output_type": "execute_result"
    }
   ],
   "source": [
    "feat_imp = pd.read_csv(\"../data/output_optimization/big/baseline_feature_importances.csv\")\n",
    "feat_imp = feat_imp.drop(\"Unnamed: 0\", axis=1)\n",
    "feat_imp"
   ]
  },
  {
   "cell_type": "code",
   "execution_count": 19,
   "metadata": {},
   "outputs": [
    {
     "data": {
      "text/html": [
       "<div>\n",
       "<style scoped>\n",
       "    .dataframe tbody tr th:only-of-type {\n",
       "        vertical-align: middle;\n",
       "    }\n",
       "\n",
       "    .dataframe tbody tr th {\n",
       "        vertical-align: top;\n",
       "    }\n",
       "\n",
       "    .dataframe thead th {\n",
       "        text-align: right;\n",
       "    }\n",
       "</style>\n",
       "<table border=\"1\" class=\"dataframe\">\n",
       "  <thead>\n",
       "    <tr style=\"text-align: right;\">\n",
       "      <th></th>\n",
       "      <th>Feature</th>\n",
       "      <th>Importance</th>\n",
       "    </tr>\n",
       "  </thead>\n",
       "  <tbody>\n",
       "    <tr>\n",
       "      <th>0</th>\n",
       "      <td>room_type</td>\n",
       "      <td>0.216326</td>\n",
       "    </tr>\n",
       "    <tr>\n",
       "      <th>1</th>\n",
       "      <td>room_typeavailability_365</td>\n",
       "      <td>0.387563</td>\n",
       "    </tr>\n",
       "    <tr>\n",
       "      <th>2</th>\n",
       "      <td>room_typeavailability_365calculated_host_listi...</td>\n",
       "      <td>0.539238</td>\n",
       "    </tr>\n",
       "    <tr>\n",
       "      <th>3</th>\n",
       "      <td>room_typeavailability_365calculated_host_listi...</td>\n",
       "      <td>0.671709</td>\n",
       "    </tr>\n",
       "    <tr>\n",
       "      <th>4</th>\n",
       "      <td>room_typeavailability_365calculated_host_listi...</td>\n",
       "      <td>0.752167</td>\n",
       "    </tr>\n",
       "    <tr>\n",
       "      <th>5</th>\n",
       "      <td>room_typeavailability_365calculated_host_listi...</td>\n",
       "      <td>0.827198</td>\n",
       "    </tr>\n",
       "    <tr>\n",
       "      <th>6</th>\n",
       "      <td>room_typeavailability_365calculated_host_listi...</td>\n",
       "      <td>0.881349</td>\n",
       "    </tr>\n",
       "    <tr>\n",
       "      <th>7</th>\n",
       "      <td>room_typeavailability_365calculated_host_listi...</td>\n",
       "      <td>0.934397</td>\n",
       "    </tr>\n",
       "    <tr>\n",
       "      <th>8</th>\n",
       "      <td>room_typeavailability_365calculated_host_listi...</td>\n",
       "      <td>0.956278</td>\n",
       "    </tr>\n",
       "    <tr>\n",
       "      <th>9</th>\n",
       "      <td>room_typeavailability_365calculated_host_listi...</td>\n",
       "      <td>0.967198</td>\n",
       "    </tr>\n",
       "    <tr>\n",
       "      <th>10</th>\n",
       "      <td>room_typeavailability_365calculated_host_listi...</td>\n",
       "      <td>0.975668</td>\n",
       "    </tr>\n",
       "    <tr>\n",
       "      <th>11</th>\n",
       "      <td>room_typeavailability_365calculated_host_listi...</td>\n",
       "      <td>0.980667</td>\n",
       "    </tr>\n",
       "    <tr>\n",
       "      <th>12</th>\n",
       "      <td>room_typeavailability_365calculated_host_listi...</td>\n",
       "      <td>0.985236</td>\n",
       "    </tr>\n",
       "    <tr>\n",
       "      <th>13</th>\n",
       "      <td>room_typeavailability_365calculated_host_listi...</td>\n",
       "      <td>0.989553</td>\n",
       "    </tr>\n",
       "    <tr>\n",
       "      <th>14</th>\n",
       "      <td>room_typeavailability_365calculated_host_listi...</td>\n",
       "      <td>0.993638</td>\n",
       "    </tr>\n",
       "    <tr>\n",
       "      <th>15</th>\n",
       "      <td>room_typeavailability_365calculated_host_listi...</td>\n",
       "      <td>0.995251</td>\n",
       "    </tr>\n",
       "    <tr>\n",
       "      <th>16</th>\n",
       "      <td>room_typeavailability_365calculated_host_listi...</td>\n",
       "      <td>0.996734</td>\n",
       "    </tr>\n",
       "    <tr>\n",
       "      <th>17</th>\n",
       "      <td>room_typeavailability_365calculated_host_listi...</td>\n",
       "      <td>0.998065</td>\n",
       "    </tr>\n",
       "    <tr>\n",
       "      <th>18</th>\n",
       "      <td>room_typeavailability_365calculated_host_listi...</td>\n",
       "      <td>0.999119</td>\n",
       "    </tr>\n",
       "    <tr>\n",
       "      <th>19</th>\n",
       "      <td>room_typeavailability_365calculated_host_listi...</td>\n",
       "      <td>1.000000</td>\n",
       "    </tr>\n",
       "    <tr>\n",
       "      <th>20</th>\n",
       "      <td>room_typeavailability_365calculated_host_listi...</td>\n",
       "      <td>1.000000</td>\n",
       "    </tr>\n",
       "  </tbody>\n",
       "</table>\n",
       "</div>"
      ],
      "text/plain": [
       "                                              Feature  Importance\n",
       "0                                           room_type    0.216326\n",
       "1                           room_typeavailability_365    0.387563\n",
       "2   room_typeavailability_365calculated_host_listi...    0.539238\n",
       "3   room_typeavailability_365calculated_host_listi...    0.671709\n",
       "4   room_typeavailability_365calculated_host_listi...    0.752167\n",
       "5   room_typeavailability_365calculated_host_listi...    0.827198\n",
       "6   room_typeavailability_365calculated_host_listi...    0.881349\n",
       "7   room_typeavailability_365calculated_host_listi...    0.934397\n",
       "8   room_typeavailability_365calculated_host_listi...    0.956278\n",
       "9   room_typeavailability_365calculated_host_listi...    0.967198\n",
       "10  room_typeavailability_365calculated_host_listi...    0.975668\n",
       "11  room_typeavailability_365calculated_host_listi...    0.980667\n",
       "12  room_typeavailability_365calculated_host_listi...    0.985236\n",
       "13  room_typeavailability_365calculated_host_listi...    0.989553\n",
       "14  room_typeavailability_365calculated_host_listi...    0.993638\n",
       "15  room_typeavailability_365calculated_host_listi...    0.995251\n",
       "16  room_typeavailability_365calculated_host_listi...    0.996734\n",
       "17  room_typeavailability_365calculated_host_listi...    0.998065\n",
       "18  room_typeavailability_365calculated_host_listi...    0.999119\n",
       "19  room_typeavailability_365calculated_host_listi...    1.000000\n",
       "20  room_typeavailability_365calculated_host_listi...    1.000000"
      ]
     },
     "execution_count": 19,
     "metadata": {},
     "output_type": "execute_result"
    }
   ],
   "source": [
    "feat_imp[:25].cumsum()"
   ]
  },
  {
   "cell_type": "code",
   "execution_count": 20,
   "metadata": {},
   "outputs": [
    {
     "data": {
      "image/png": "[encoded data removed]",
      "text/plain": [
       "<Figure size 640x480 with 1 Axes>"
      ]
     },
     "metadata": {},
     "output_type": "display_data"
    }
   ],
   "source": [
    "# Contribuyen un 0.881349\n",
    "sorted_importances = feat_imp[:7].sort_values(by=\"Importance\", ascending=True)\n",
    "ax = sorted_importances.plot.barh(x=\"Feature\", y=\"Importance\")\n",
    "ax.set_title(\"Feature Importances\")\n",
    "plt.show()"
   ]
  },
  {
   "cell_type": "code",
   "execution_count": 21,
   "metadata": {},
   "outputs": [
    {
     "data": {
      "text/plain": [
       "['room_type',\n",
       " 'availability_365',\n",
       " 'calculated_host_listings_count',\n",
       " 'reviews_per_month',\n",
       " 'number_of_reviews',\n",
       " 'minimum_nights',\n",
       " 'ine_num_tourists_vacation_rental']"
      ]
     },
     "execution_count": 21,
     "metadata": {},
     "output_type": "execute_result"
    }
   ],
   "source": [
    "list(feat_imp[:7][\"Feature\"].unique())"
   ]
  },
  {
   "cell_type": "code",
   "execution_count": 22,
   "metadata": {},
   "outputs": [
    {
     "data": {
      "text/html": [
       "<div>\n",
       "<style scoped>\n",
       "    .dataframe tbody tr th:only-of-type {\n",
       "        vertical-align: middle;\n",
       "    }\n",
       "\n",
       "    .dataframe tbody tr th {\n",
       "        vertical-align: top;\n",
       "    }\n",
       "\n",
       "    .dataframe thead th {\n",
       "        text-align: right;\n",
       "    }\n",
       "</style>\n",
       "<table border=\"1\" class=\"dataframe\">\n",
       "  <thead>\n",
       "    <tr style=\"text-align: right;\">\n",
       "      <th></th>\n",
       "      <th>id</th>\n",
       "      <th>room_type</th>\n",
       "      <th>availability_365</th>\n",
       "      <th>calculated_host_listings_count</th>\n",
       "      <th>reviews_per_month</th>\n",
       "      <th>number_of_reviews</th>\n",
       "      <th>minimum_nights</th>\n",
       "      <th>ine_num_tourists_vacation_rental</th>\n",
       "      <th>price</th>\n",
       "    </tr>\n",
       "  </thead>\n",
       "  <tbody>\n",
       "    <tr>\n",
       "      <th>0</th>\n",
       "      <td>18674</td>\n",
       "      <td>3.0</td>\n",
       "      <td>264</td>\n",
       "      <td>20</td>\n",
       "      <td>0.28</td>\n",
       "      <td>33</td>\n",
       "      <td>1</td>\n",
       "      <td>63894</td>\n",
       "      <td>129</td>\n",
       "    </tr>\n",
       "    <tr>\n",
       "      <th>1</th>\n",
       "      <td>23197</td>\n",
       "      <td>3.0</td>\n",
       "      <td>255</td>\n",
       "      <td>2</td>\n",
       "      <td>0.45</td>\n",
       "      <td>65</td>\n",
       "      <td>4</td>\n",
       "      <td>63894</td>\n",
       "      <td>195</td>\n",
       "    </tr>\n",
       "    <tr>\n",
       "      <th>2</th>\n",
       "      <td>32711</td>\n",
       "      <td>3.0</td>\n",
       "      <td>276</td>\n",
       "      <td>3</td>\n",
       "      <td>0.60</td>\n",
       "      <td>83</td>\n",
       "      <td>2</td>\n",
       "      <td>63894</td>\n",
       "      <td>73</td>\n",
       "    </tr>\n",
       "    <tr>\n",
       "      <th>3</th>\n",
       "      <td>34981</td>\n",
       "      <td>3.0</td>\n",
       "      <td>139</td>\n",
       "      <td>1</td>\n",
       "      <td>1.28</td>\n",
       "      <td>190</td>\n",
       "      <td>5</td>\n",
       "      <td>63894</td>\n",
       "      <td>174</td>\n",
       "    </tr>\n",
       "    <tr>\n",
       "      <th>4</th>\n",
       "      <td>36763</td>\n",
       "      <td>1.0</td>\n",
       "      <td>259</td>\n",
       "      <td>1</td>\n",
       "      <td>0.76</td>\n",
       "      <td>104</td>\n",
       "      <td>31</td>\n",
       "      <td>63894</td>\n",
       "      <td>36</td>\n",
       "    </tr>\n",
       "    <tr>\n",
       "      <th>...</th>\n",
       "      <td>...</td>\n",
       "      <td>...</td>\n",
       "      <td>...</td>\n",
       "      <td>...</td>\n",
       "      <td>...</td>\n",
       "      <td>...</td>\n",
       "      <td>...</td>\n",
       "      <td>...</td>\n",
       "      <td>...</td>\n",
       "    </tr>\n",
       "    <tr>\n",
       "      <th>90572</th>\n",
       "      <td>785689203850632931</td>\n",
       "      <td>1.0</td>\n",
       "      <td>364</td>\n",
       "      <td>1</td>\n",
       "      <td>0.64</td>\n",
       "      <td>7</td>\n",
       "      <td>1</td>\n",
       "      <td>89325</td>\n",
       "      <td>26</td>\n",
       "    </tr>\n",
       "    <tr>\n",
       "      <th>90573</th>\n",
       "      <td>785971133185009634</td>\n",
       "      <td>1.0</td>\n",
       "      <td>335</td>\n",
       "      <td>2</td>\n",
       "      <td>0.64</td>\n",
       "      <td>7</td>\n",
       "      <td>1</td>\n",
       "      <td>89325</td>\n",
       "      <td>40</td>\n",
       "    </tr>\n",
       "    <tr>\n",
       "      <th>90574</th>\n",
       "      <td>786120918642825480</td>\n",
       "      <td>1.0</td>\n",
       "      <td>365</td>\n",
       "      <td>1</td>\n",
       "      <td>0.64</td>\n",
       "      <td>7</td>\n",
       "      <td>2</td>\n",
       "      <td>89325</td>\n",
       "      <td>45</td>\n",
       "    </tr>\n",
       "    <tr>\n",
       "      <th>90575</th>\n",
       "      <td>786125428040961074</td>\n",
       "      <td>3.0</td>\n",
       "      <td>364</td>\n",
       "      <td>1</td>\n",
       "      <td>0.64</td>\n",
       "      <td>7</td>\n",
       "      <td>1</td>\n",
       "      <td>89325</td>\n",
       "      <td>57</td>\n",
       "    </tr>\n",
       "    <tr>\n",
       "      <th>90576</th>\n",
       "      <td>786165037887203536</td>\n",
       "      <td>1.0</td>\n",
       "      <td>359</td>\n",
       "      <td>5</td>\n",
       "      <td>0.64</td>\n",
       "      <td>7</td>\n",
       "      <td>3</td>\n",
       "      <td>89325</td>\n",
       "      <td>28</td>\n",
       "    </tr>\n",
       "  </tbody>\n",
       "</table>\n",
       "<p>90577 rows × 9 columns</p>\n",
       "</div>"
      ],
      "text/plain": [
       "                       id  room_type  availability_365  \\\n",
       "0                   18674        3.0               264   \n",
       "1                   23197        3.0               255   \n",
       "2                   32711        3.0               276   \n",
       "3                   34981        3.0               139   \n",
       "4                   36763        1.0               259   \n",
       "...                   ...        ...               ...   \n",
       "90572  785689203850632931        1.0               364   \n",
       "90573  785971133185009634        1.0               335   \n",
       "90574  786120918642825480        1.0               365   \n",
       "90575  786125428040961074        3.0               364   \n",
       "90576  786165037887203536        1.0               359   \n",
       "\n",
       "       calculated_host_listings_count  reviews_per_month  number_of_reviews  \\\n",
       "0                                  20               0.28                 33   \n",
       "1                                   2               0.45                 65   \n",
       "2                                   3               0.60                 83   \n",
       "3                                   1               1.28                190   \n",
       "4                                   1               0.76                104   \n",
       "...                               ...                ...                ...   \n",
       "90572                               1               0.64                  7   \n",
       "90573                               2               0.64                  7   \n",
       "90574                               1               0.64                  7   \n",
       "90575                               1               0.64                  7   \n",
       "90576                               5               0.64                  7   \n",
       "\n",
       "       minimum_nights  ine_num_tourists_vacation_rental  price  \n",
       "0                   1                             63894    129  \n",
       "1                   4                             63894    195  \n",
       "2                   2                             63894     73  \n",
       "3                   5                             63894    174  \n",
       "4                  31                             63894     36  \n",
       "...               ...                               ...    ...  \n",
       "90572               1                             89325     26  \n",
       "90573               1                             89325     40  \n",
       "90574               2                             89325     45  \n",
       "90575               1                             89325     57  \n",
       "90576               3                             89325     28  \n",
       "\n",
       "[90577 rows x 9 columns]"
      ]
     },
     "execution_count": 22,
     "metadata": {},
     "output_type": "execute_result"
    }
   ],
   "source": [
    "big_data_5[[\"id\"] + list(feat_imp[:7][\"Feature\"].unique()) + [\"price\"]]"
   ]
  },
  {
   "cell_type": "code",
   "execution_count": 23,
   "metadata": {},
   "outputs": [
    {
     "name": "stderr",
     "output_type": "stream",
     "text": [
      "c:\\Users\\Selvie\\OneDrive\\SELVIE\\Lifelong Learning\\The Bridge - Data Science Bootcamp\\MyCode\\3-Machine_Learning\\Entrega\\Proyecto ML\\Airbnb\\notebooks\\../functions\\run_baseline_model.py:68: FutureWarning: The frame.append method is deprecated and will be removed from pandas in a future version. Use pandas.concat instead.\n",
      "  metrics_df = metrics_df.append(pd.Series(metrics_test, index=metrics_df.columns), ignore_index=True)\n",
      "c:\\Users\\Selvie\\OneDrive\\SELVIE\\Lifelong Learning\\The Bridge - Data Science Bootcamp\\MyCode\\3-Machine_Learning\\Entrega\\Proyecto ML\\Airbnb\\notebooks\\../functions\\run_baseline_model.py:69: FutureWarning: The frame.append method is deprecated and will be removed from pandas in a future version. Use pandas.concat instead.\n",
      "  metrics_df = metrics_df.append(pd.Series(metrics_train, index=metrics_df.columns), ignore_index=True)\n"
     ]
    },
    {
     "data": {
      "text/plain": [
       "(Pipeline(steps=[('scaler', StandardScaler()),\n",
       "                 ('model', RandomForestRegressor(random_state=42))]),\n",
       "                 Model          MSE       RMSE        MAE       MAPE        R2\n",
       " 0   RandomForest_Test  3149.477367  56.120205  40.812764  42.810777  0.368078\n",
       " 1  RandomForest_Train   616.585945  24.831149  16.839478  17.835819  0.877588)"
      ]
     },
     "execution_count": 23,
     "metadata": {},
     "output_type": "execute_result"
    }
   ],
   "source": [
    "bm.train_random_forest(X=big_data_5[[\"id\"] + list(feat_imp[:7][\"Feature\"].unique()) + [\"price\"]].iloc[:, 1:-1], \n",
    "                       y=big_data_5[[\"id\"] + list(feat_imp[:7][\"Feature\"].unique()) + [\"price\"]][\"price\"], random_state=42, \n",
    "                       path1=\"../data/output_optimization/big/baseline_feature_importance_redcols.csv\",\n",
    "                       path2=\"../data/output_optimization/big/metrics_2.csv\")"
   ]
  },
  {
   "attachments": {},
   "cell_type": "markdown",
   "metadata": {},
   "source": [
    "Comentario:\n",
    "- El MAE y el RMSE han empeorado."
   ]
  },
  {
   "cell_type": "code",
   "execution_count": null,
   "metadata": {},
   "outputs": [],
   "source": []
  },
  {
   "attachments": {},
   "cell_type": "markdown",
   "metadata": {},
   "source": [
    "## 3) Optimización - Quitar columnas que tienen media-alta correlación"
   ]
  },
  {
   "cell_type": "code",
   "execution_count": 24,
   "metadata": {},
   "outputs": [
    {
     "data": {
      "text/plain": [
       "Index(['id', 'minimum_nights', 'idealista_rental(EUR/m2/month)',\n",
       "       'ine_num_vacation_rental', 'calculated_host_listings_count',\n",
       "       'ine_num_tourists_vacation_rental', 'reviews_per_month',\n",
       "       'ine_percent_vacation_rental', 'idealista_sell(EUR/m2)',\n",
       "       'availability_365', 'number_of_reviews_ltm', 'number_of_reviews',\n",
       "       'room_type', 'license', 'last_review', 'onehot__state_Andalucía',\n",
       "       'onehot__state_Cataluña', 'onehot__state_Comunidad Valenciana',\n",
       "       'onehot__state_Comunidad de Madrid', 'onehot__state_Islas Baleares',\n",
       "       'onehot__state_La Rioja', 'onehot__state_País Vasco', 'price'],\n",
       "      dtype='object')"
      ]
     },
     "execution_count": 24,
     "metadata": {},
     "output_type": "execute_result"
    }
   ],
   "source": [
    "big_data_5.columns"
   ]
  },
  {
   "attachments": {},
   "cell_type": "markdown",
   "metadata": {},
   "source": [
    "Las columnas relacionadas con reseñas"
   ]
  },
  {
   "cell_type": "code",
   "execution_count": 25,
   "metadata": {},
   "outputs": [
    {
     "data": {
      "image/png": "[encoded data removed]",
      "text/plain": [
       "<Figure size 640x480 with 2 Axes>"
      ]
     },
     "metadata": {},
     "output_type": "display_data"
    }
   ],
   "source": [
    "sns.heatmap(big_data_5[['number_of_reviews_ltm', 'number_of_reviews']].corr());"
   ]
  },
  {
   "attachments": {},
   "cell_type": "markdown",
   "metadata": {},
   "source": [
    "Comentario:\n",
    "- Hay alta correlación entre estas dos columnas. Por lo tanto, voy a quitar la columna 'number_of_reviews_ltm'"
   ]
  },
  {
   "cell_type": "code",
   "execution_count": 26,
   "metadata": {},
   "outputs": [],
   "source": [
    "big_data_5_opt = big_data_5.copy()\n",
    "big_data_5_opt = big_data_5_opt.drop('number_of_reviews_ltm', axis=1)"
   ]
  },
  {
   "cell_type": "code",
   "execution_count": 27,
   "metadata": {},
   "outputs": [
    {
     "name": "stdout",
     "output_type": "stream",
     "text": [
      "<class 'pandas.core.frame.DataFrame'>\n",
      "RangeIndex: 90577 entries, 0 to 90576\n",
      "Data columns (total 22 columns):\n",
      " #   Column                              Non-Null Count  Dtype  \n",
      "---  ------                              --------------  -----  \n",
      " 0   id                                  90577 non-null  int64  \n",
      " 1   minimum_nights                      90577 non-null  int64  \n",
      " 2   idealista_rental(EUR/m2/month)      90577 non-null  float64\n",
      " 3   ine_num_vacation_rental             90577 non-null  int64  \n",
      " 4   calculated_host_listings_count      90577 non-null  int64  \n",
      " 5   ine_num_tourists_vacation_rental    90577 non-null  int64  \n",
      " 6   reviews_per_month                   90577 non-null  float64\n",
      " 7   ine_percent_vacation_rental         90577 non-null  float64\n",
      " 8   idealista_sell(EUR/m2)              90577 non-null  int64  \n",
      " 9   availability_365                    90577 non-null  int64  \n",
      " 10  number_of_reviews                   90577 non-null  int64  \n",
      " 11  room_type                           90577 non-null  float64\n",
      " 12  license                             90577 non-null  float64\n",
      " 13  last_review                         90577 non-null  float64\n",
      " 14  onehot__state_Andalucía             90577 non-null  float64\n",
      " 15  onehot__state_Cataluña              90577 non-null  float64\n",
      " 16  onehot__state_Comunidad Valenciana  90577 non-null  float64\n",
      " 17  onehot__state_Comunidad de Madrid   90577 non-null  float64\n",
      " 18  onehot__state_Islas Baleares        90577 non-null  float64\n",
      " 19  onehot__state_La Rioja              90577 non-null  float64\n",
      " 20  onehot__state_País Vasco            90577 non-null  float64\n",
      " 21  price                               90577 non-null  int64  \n",
      "dtypes: float64(13), int64(9)\n",
      "memory usage: 15.2 MB\n"
     ]
    }
   ],
   "source": [
    "big_data_5_opt.info()"
   ]
  },
  {
   "cell_type": "code",
   "execution_count": 28,
   "metadata": {},
   "outputs": [
    {
     "name": "stderr",
     "output_type": "stream",
     "text": [
      "c:\\Users\\Selvie\\OneDrive\\SELVIE\\Lifelong Learning\\The Bridge - Data Science Bootcamp\\MyCode\\3-Machine_Learning\\Entrega\\Proyecto ML\\Airbnb\\notebooks\\../functions\\run_baseline_model.py:68: FutureWarning: The frame.append method is deprecated and will be removed from pandas in a future version. Use pandas.concat instead.\n",
      "  metrics_df = metrics_df.append(pd.Series(metrics_test, index=metrics_df.columns), ignore_index=True)\n",
      "c:\\Users\\Selvie\\OneDrive\\SELVIE\\Lifelong Learning\\The Bridge - Data Science Bootcamp\\MyCode\\3-Machine_Learning\\Entrega\\Proyecto ML\\Airbnb\\notebooks\\../functions\\run_baseline_model.py:69: FutureWarning: The frame.append method is deprecated and will be removed from pandas in a future version. Use pandas.concat instead.\n",
      "  metrics_df = metrics_df.append(pd.Series(metrics_train, index=metrics_df.columns), ignore_index=True)\n"
     ]
    },
    {
     "data": {
      "text/plain": [
       "(Pipeline(steps=[('scaler', StandardScaler()),\n",
       "                 ('model', RandomForestRegressor(random_state=42))]),\n",
       "                 Model          MSE       RMSE        MAE       MAPE        R2\n",
       " 0   RandomForest_Test  3124.562402  55.897785  40.537104  42.343562  0.373077\n",
       " 1  RandomForest_Train   602.450065  24.544858  16.660132  17.611503  0.880395)"
      ]
     },
     "execution_count": 28,
     "metadata": {},
     "output_type": "execute_result"
    }
   ],
   "source": [
    "bm.train_random_forest(X=big_data_5_opt.iloc[:, 1:-1], y=big_data_5_opt[\"price\"], random_state=42, \n",
    "                       path1=\"../data/output_optimization/big/baseline_feature_importance_redcols_2.csv\",\n",
    "                       path2=\"../data/output_optimization/big/metrics_3.csv\")"
   ]
  },
  {
   "attachments": {},
   "cell_type": "markdown",
   "metadata": {},
   "source": [
    "Comentario:\n",
    "- El MAE y el RMSE no mejoran"
   ]
  },
  {
   "cell_type": "code",
   "execution_count": null,
   "metadata": {},
   "outputs": [],
   "source": []
  },
  {
   "attachments": {},
   "cell_type": "markdown",
   "metadata": {},
   "source": [
    "## 4) Optimización - Aplicar el feature importance otra vez en base al apartado 3"
   ]
  },
  {
   "attachments": {},
   "cell_type": "markdown",
   "metadata": {},
   "source": [
    "Mira la suma cumulativa de importancia y aplica el feature importance de las columnas reducidas del apartado 3"
   ]
  },
  {
   "cell_type": "code",
   "execution_count": 29,
   "metadata": {},
   "outputs": [],
   "source": [
    "feat_imp_redcols_2 = pd.read_csv(\"../data/output_optimization/big/baseline_feature_importance_redcols_2.csv\")\n",
    "feat_imp_redcols_2 = feat_imp_redcols_2.drop(\"Unnamed: 0\", axis=1)"
   ]
  },
  {
   "cell_type": "code",
   "execution_count": 30,
   "metadata": {},
   "outputs": [
    {
     "data": {
      "text/html": [
       "<div>\n",
       "<style scoped>\n",
       "    .dataframe tbody tr th:only-of-type {\n",
       "        vertical-align: middle;\n",
       "    }\n",
       "\n",
       "    .dataframe tbody tr th {\n",
       "        vertical-align: top;\n",
       "    }\n",
       "\n",
       "    .dataframe thead th {\n",
       "        text-align: right;\n",
       "    }\n",
       "</style>\n",
       "<table border=\"1\" class=\"dataframe\">\n",
       "  <thead>\n",
       "    <tr style=\"text-align: right;\">\n",
       "      <th></th>\n",
       "      <th>Feature</th>\n",
       "      <th>Importance</th>\n",
       "    </tr>\n",
       "  </thead>\n",
       "  <tbody>\n",
       "    <tr>\n",
       "      <th>0</th>\n",
       "      <td>availability_365</td>\n",
       "      <td>0.204739</td>\n",
       "    </tr>\n",
       "    <tr>\n",
       "      <th>1</th>\n",
       "      <td>availability_365room_type</td>\n",
       "      <td>0.384859</td>\n",
       "    </tr>\n",
       "    <tr>\n",
       "      <th>2</th>\n",
       "      <td>availability_365room_typereviews_per_month</td>\n",
       "      <td>0.545871</td>\n",
       "    </tr>\n",
       "    <tr>\n",
       "      <th>3</th>\n",
       "      <td>availability_365room_typereviews_per_monthcalc...</td>\n",
       "      <td>0.700780</td>\n",
       "    </tr>\n",
       "    <tr>\n",
       "      <th>4</th>\n",
       "      <td>availability_365room_typereviews_per_monthcalc...</td>\n",
       "      <td>0.811801</td>\n",
       "    </tr>\n",
       "    <tr>\n",
       "      <th>5</th>\n",
       "      <td>availability_365room_typereviews_per_monthcalc...</td>\n",
       "      <td>0.890471</td>\n",
       "    </tr>\n",
       "    <tr>\n",
       "      <th>6</th>\n",
       "      <td>availability_365room_typereviews_per_monthcalc...</td>\n",
       "      <td>0.936151</td>\n",
       "    </tr>\n",
       "    <tr>\n",
       "      <th>7</th>\n",
       "      <td>availability_365room_typereviews_per_monthcalc...</td>\n",
       "      <td>0.956702</td>\n",
       "    </tr>\n",
       "    <tr>\n",
       "      <th>8</th>\n",
       "      <td>availability_365room_typereviews_per_monthcalc...</td>\n",
       "      <td>0.967632</td>\n",
       "    </tr>\n",
       "    <tr>\n",
       "      <th>9</th>\n",
       "      <td>availability_365room_typereviews_per_monthcalc...</td>\n",
       "      <td>0.975002</td>\n",
       "    </tr>\n",
       "    <tr>\n",
       "      <th>10</th>\n",
       "      <td>availability_365room_typereviews_per_monthcalc...</td>\n",
       "      <td>0.980059</td>\n",
       "    </tr>\n",
       "    <tr>\n",
       "      <th>11</th>\n",
       "      <td>availability_365room_typereviews_per_monthcalc...</td>\n",
       "      <td>0.984656</td>\n",
       "    </tr>\n",
       "    <tr>\n",
       "      <th>12</th>\n",
       "      <td>availability_365room_typereviews_per_monthcalc...</td>\n",
       "      <td>0.989096</td>\n",
       "    </tr>\n",
       "    <tr>\n",
       "      <th>13</th>\n",
       "      <td>availability_365room_typereviews_per_monthcalc...</td>\n",
       "      <td>0.993366</td>\n",
       "    </tr>\n",
       "    <tr>\n",
       "      <th>14</th>\n",
       "      <td>availability_365room_typereviews_per_monthcalc...</td>\n",
       "      <td>0.995044</td>\n",
       "    </tr>\n",
       "    <tr>\n",
       "      <th>15</th>\n",
       "      <td>availability_365room_typereviews_per_monthcalc...</td>\n",
       "      <td>0.996494</td>\n",
       "    </tr>\n",
       "    <tr>\n",
       "      <th>16</th>\n",
       "      <td>availability_365room_typereviews_per_monthcalc...</td>\n",
       "      <td>0.997786</td>\n",
       "    </tr>\n",
       "    <tr>\n",
       "      <th>17</th>\n",
       "      <td>availability_365room_typereviews_per_monthcalc...</td>\n",
       "      <td>0.999049</td>\n",
       "    </tr>\n",
       "    <tr>\n",
       "      <th>18</th>\n",
       "      <td>availability_365room_typereviews_per_monthcalc...</td>\n",
       "      <td>1.000000</td>\n",
       "    </tr>\n",
       "    <tr>\n",
       "      <th>19</th>\n",
       "      <td>availability_365room_typereviews_per_monthcalc...</td>\n",
       "      <td>1.000000</td>\n",
       "    </tr>\n",
       "  </tbody>\n",
       "</table>\n",
       "</div>"
      ],
      "text/plain": [
       "                                              Feature  Importance\n",
       "0                                    availability_365    0.204739\n",
       "1                           availability_365room_type    0.384859\n",
       "2          availability_365room_typereviews_per_month    0.545871\n",
       "3   availability_365room_typereviews_per_monthcalc...    0.700780\n",
       "4   availability_365room_typereviews_per_monthcalc...    0.811801\n",
       "5   availability_365room_typereviews_per_monthcalc...    0.890471\n",
       "6   availability_365room_typereviews_per_monthcalc...    0.936151\n",
       "7   availability_365room_typereviews_per_monthcalc...    0.956702\n",
       "8   availability_365room_typereviews_per_monthcalc...    0.967632\n",
       "9   availability_365room_typereviews_per_monthcalc...    0.975002\n",
       "10  availability_365room_typereviews_per_monthcalc...    0.980059\n",
       "11  availability_365room_typereviews_per_monthcalc...    0.984656\n",
       "12  availability_365room_typereviews_per_monthcalc...    0.989096\n",
       "13  availability_365room_typereviews_per_monthcalc...    0.993366\n",
       "14  availability_365room_typereviews_per_monthcalc...    0.995044\n",
       "15  availability_365room_typereviews_per_monthcalc...    0.996494\n",
       "16  availability_365room_typereviews_per_monthcalc...    0.997786\n",
       "17  availability_365room_typereviews_per_monthcalc...    0.999049\n",
       "18  availability_365room_typereviews_per_monthcalc...    1.000000\n",
       "19  availability_365room_typereviews_per_monthcalc...    1.000000"
      ]
     },
     "execution_count": 30,
     "metadata": {},
     "output_type": "execute_result"
    }
   ],
   "source": [
    "feat_imp_redcols_2.cumsum()"
   ]
  },
  {
   "attachments": {},
   "cell_type": "markdown",
   "metadata": {},
   "source": [
    "Las 6 primeras columnas tienen una suma cumulativa de importancia de un 0.890471. Voy a quitar el resto de las columnas."
   ]
  },
  {
   "cell_type": "code",
   "execution_count": 31,
   "metadata": {},
   "outputs": [
    {
     "data": {
      "text/html": [
       "<div>\n",
       "<style scoped>\n",
       "    .dataframe tbody tr th:only-of-type {\n",
       "        vertical-align: middle;\n",
       "    }\n",
       "\n",
       "    .dataframe tbody tr th {\n",
       "        vertical-align: top;\n",
       "    }\n",
       "\n",
       "    .dataframe thead th {\n",
       "        text-align: right;\n",
       "    }\n",
       "</style>\n",
       "<table border=\"1\" class=\"dataframe\">\n",
       "  <thead>\n",
       "    <tr style=\"text-align: right;\">\n",
       "      <th></th>\n",
       "      <th>Feature</th>\n",
       "      <th>Importance</th>\n",
       "    </tr>\n",
       "  </thead>\n",
       "  <tbody>\n",
       "    <tr>\n",
       "      <th>0</th>\n",
       "      <td>availability_365</td>\n",
       "      <td>0.204739</td>\n",
       "    </tr>\n",
       "    <tr>\n",
       "      <th>1</th>\n",
       "      <td>availability_365room_type</td>\n",
       "      <td>0.384859</td>\n",
       "    </tr>\n",
       "    <tr>\n",
       "      <th>2</th>\n",
       "      <td>availability_365room_typereviews_per_month</td>\n",
       "      <td>0.545871</td>\n",
       "    </tr>\n",
       "    <tr>\n",
       "      <th>3</th>\n",
       "      <td>availability_365room_typereviews_per_monthcalc...</td>\n",
       "      <td>0.700780</td>\n",
       "    </tr>\n",
       "    <tr>\n",
       "      <th>4</th>\n",
       "      <td>availability_365room_typereviews_per_monthcalc...</td>\n",
       "      <td>0.811801</td>\n",
       "    </tr>\n",
       "    <tr>\n",
       "      <th>5</th>\n",
       "      <td>availability_365room_typereviews_per_monthcalc...</td>\n",
       "      <td>0.890471</td>\n",
       "    </tr>\n",
       "  </tbody>\n",
       "</table>\n",
       "</div>"
      ],
      "text/plain": [
       "                                             Feature  Importance\n",
       "0                                   availability_365    0.204739\n",
       "1                          availability_365room_type    0.384859\n",
       "2         availability_365room_typereviews_per_month    0.545871\n",
       "3  availability_365room_typereviews_per_monthcalc...    0.700780\n",
       "4  availability_365room_typereviews_per_monthcalc...    0.811801\n",
       "5  availability_365room_typereviews_per_monthcalc...    0.890471"
      ]
     },
     "execution_count": 31,
     "metadata": {},
     "output_type": "execute_result"
    }
   ],
   "source": [
    "feat_imp_redcols_2[:6].cumsum()"
   ]
  },
  {
   "cell_type": "code",
   "execution_count": 32,
   "metadata": {},
   "outputs": [
    {
     "data": {
      "text/html": [
       "<div>\n",
       "<style scoped>\n",
       "    .dataframe tbody tr th:only-of-type {\n",
       "        vertical-align: middle;\n",
       "    }\n",
       "\n",
       "    .dataframe tbody tr th {\n",
       "        vertical-align: top;\n",
       "    }\n",
       "\n",
       "    .dataframe thead th {\n",
       "        text-align: right;\n",
       "    }\n",
       "</style>\n",
       "<table border=\"1\" class=\"dataframe\">\n",
       "  <thead>\n",
       "    <tr style=\"text-align: right;\">\n",
       "      <th></th>\n",
       "      <th>Feature</th>\n",
       "      <th>Importance</th>\n",
       "    </tr>\n",
       "  </thead>\n",
       "  <tbody>\n",
       "    <tr>\n",
       "      <th>0</th>\n",
       "      <td>availability_365</td>\n",
       "      <td>0.204739</td>\n",
       "    </tr>\n",
       "    <tr>\n",
       "      <th>1</th>\n",
       "      <td>room_type</td>\n",
       "      <td>0.180121</td>\n",
       "    </tr>\n",
       "    <tr>\n",
       "      <th>2</th>\n",
       "      <td>reviews_per_month</td>\n",
       "      <td>0.161011</td>\n",
       "    </tr>\n",
       "    <tr>\n",
       "      <th>3</th>\n",
       "      <td>calculated_host_listings_count</td>\n",
       "      <td>0.154909</td>\n",
       "    </tr>\n",
       "    <tr>\n",
       "      <th>4</th>\n",
       "      <td>number_of_reviews</td>\n",
       "      <td>0.111021</td>\n",
       "    </tr>\n",
       "    <tr>\n",
       "      <th>5</th>\n",
       "      <td>minimum_nights</td>\n",
       "      <td>0.078670</td>\n",
       "    </tr>\n",
       "  </tbody>\n",
       "</table>\n",
       "</div>"
      ],
      "text/plain": [
       "                          Feature  Importance\n",
       "0                availability_365    0.204739\n",
       "1                       room_type    0.180121\n",
       "2               reviews_per_month    0.161011\n",
       "3  calculated_host_listings_count    0.154909\n",
       "4               number_of_reviews    0.111021\n",
       "5                  minimum_nights    0.078670"
      ]
     },
     "execution_count": 32,
     "metadata": {},
     "output_type": "execute_result"
    }
   ],
   "source": [
    "feat_imp_redcols_2[:6]"
   ]
  },
  {
   "cell_type": "code",
   "execution_count": 33,
   "metadata": {},
   "outputs": [
    {
     "data": {
      "image/png": "[encoded data removed]",
      "text/plain": [
       "<Figure size 640x480 with 1 Axes>"
      ]
     },
     "metadata": {},
     "output_type": "display_data"
    }
   ],
   "source": [
    "# Las primeras 6 columnas tienen una suma cumulativa de importancia de 0.890471\n",
    "sorted_importances = feat_imp_redcols_2[:6].sort_values(by=\"Importance\", ascending=True)\n",
    "ax = sorted_importances.plot.barh(x=\"Feature\", y=\"Importance\")\n",
    "ax.set_title(\"Feature Importances - Reduced Columns\")\n",
    "plt.show()"
   ]
  },
  {
   "attachments": {},
   "cell_type": "markdown",
   "metadata": {},
   "source": [
    "Vamos a entrenar otra vez el modelo con solamente 6 columnas más importantes"
   ]
  },
  {
   "cell_type": "code",
   "execution_count": 34,
   "metadata": {},
   "outputs": [
    {
     "data": {
      "text/plain": [
       "['id',\n",
       " 'availability_365',\n",
       " 'room_type',\n",
       " 'reviews_per_month',\n",
       " 'calculated_host_listings_count',\n",
       " 'number_of_reviews',\n",
       " 'minimum_nights',\n",
       " 'price']"
      ]
     },
     "execution_count": 34,
     "metadata": {},
     "output_type": "execute_result"
    }
   ],
   "source": [
    "imp_cols = [\"id\"] + list(feat_imp_redcols_2[:6][\"Feature\"].unique()) + [\"price\"]\n",
    "imp_cols"
   ]
  },
  {
   "cell_type": "code",
   "execution_count": 35,
   "metadata": {},
   "outputs": [
    {
     "name": "stdout",
     "output_type": "stream",
     "text": [
      "<class 'pandas.core.frame.DataFrame'>\n",
      "RangeIndex: 90577 entries, 0 to 90576\n",
      "Data columns (total 8 columns):\n",
      " #   Column                          Non-Null Count  Dtype  \n",
      "---  ------                          --------------  -----  \n",
      " 0   id                              90577 non-null  int64  \n",
      " 1   availability_365                90577 non-null  int64  \n",
      " 2   room_type                       90577 non-null  float64\n",
      " 3   reviews_per_month               90577 non-null  float64\n",
      " 4   calculated_host_listings_count  90577 non-null  int64  \n",
      " 5   number_of_reviews               90577 non-null  int64  \n",
      " 6   minimum_nights                  90577 non-null  int64  \n",
      " 7   price                           90577 non-null  int64  \n",
      "dtypes: float64(2), int64(6)\n",
      "memory usage: 5.5 MB\n"
     ]
    }
   ],
   "source": [
    "big_data_5[imp_cols].info()"
   ]
  },
  {
   "cell_type": "code",
   "execution_count": 36,
   "metadata": {},
   "outputs": [
    {
     "name": "stderr",
     "output_type": "stream",
     "text": [
      "c:\\Users\\Selvie\\OneDrive\\SELVIE\\Lifelong Learning\\The Bridge - Data Science Bootcamp\\MyCode\\3-Machine_Learning\\Entrega\\Proyecto ML\\Airbnb\\notebooks\\../functions\\run_baseline_model.py:68: FutureWarning: The frame.append method is deprecated and will be removed from pandas in a future version. Use pandas.concat instead.\n",
      "  metrics_df = metrics_df.append(pd.Series(metrics_test, index=metrics_df.columns), ignore_index=True)\n",
      "c:\\Users\\Selvie\\OneDrive\\SELVIE\\Lifelong Learning\\The Bridge - Data Science Bootcamp\\MyCode\\3-Machine_Learning\\Entrega\\Proyecto ML\\Airbnb\\notebooks\\../functions\\run_baseline_model.py:69: FutureWarning: The frame.append method is deprecated and will be removed from pandas in a future version. Use pandas.concat instead.\n",
      "  metrics_df = metrics_df.append(pd.Series(metrics_train, index=metrics_df.columns), ignore_index=True)\n"
     ]
    },
    {
     "data": {
      "text/plain": [
       "(Pipeline(steps=[('scaler', StandardScaler()),\n",
       "                 ('model', RandomForestRegressor(random_state=42))]),\n",
       "                 Model          MSE       RMSE        MAE       MAPE        R2\n",
       " 0   RandomForest_Test  3409.448323  58.390481  42.861947  45.366230  0.315916\n",
       " 1  RandomForest_Train   720.619111  26.844350  18.121041  19.454369  0.856935)"
      ]
     },
     "execution_count": 36,
     "metadata": {},
     "output_type": "execute_result"
    }
   ],
   "source": [
    "bm.train_random_forest(X=big_data_5[imp_cols].iloc[:, 1:-1], y=big_data_5[imp_cols][\"price\"], random_state=42, \n",
    "                       path1=\"../data/output_optimization/big/baseline_feature_importance_redcols_3.csv\",\n",
    "                       path2=\"../data/output_optimization/big/metrics_4.csv\")"
   ]
  },
  {
   "attachments": {},
   "cell_type": "markdown",
   "metadata": {},
   "source": [
    "Comentario:\n",
    "- El MAE y el RMSE no mejoran"
   ]
  },
  {
   "cell_type": "code",
   "execution_count": null,
   "metadata": {},
   "outputs": [],
   "source": []
  },
  {
   "attachments": {},
   "cell_type": "markdown",
   "metadata": {},
   "source": [
    "#### Feature Importance (antes y después de reducir columnas que tenían bastante correlación entre ellas)"
   ]
  },
  {
   "cell_type": "code",
   "execution_count": 37,
   "metadata": {},
   "outputs": [
    {
     "name": "stdout",
     "output_type": "stream",
     "text": [
      "21\n",
      "20\n"
     ]
    }
   ],
   "source": [
    "print(len(feat_imp))\n",
    "print(len(feat_imp_redcols_2))"
   ]
  },
  {
   "cell_type": "code",
   "execution_count": 38,
   "metadata": {},
   "outputs": [
    {
     "data": {
      "image/png": "[encoded data removed]",
      "text/plain": [
       "<Figure size 1200x600 with 2 Axes>"
      ]
     },
     "metadata": {},
     "output_type": "display_data"
    }
   ],
   "source": [
    "sorted_importances = feat_imp.sort_values(by=\"Importance\", ascending=True)\n",
    "sorted_importances_redcols = feat_imp_redcols_2[:15].sort_values(by=\"Importance\", ascending=True)\n",
    "\n",
    "fig, axs = plt.subplots(ncols=2, figsize=(12, 6))\n",
    "axs[0].barh(sorted_importances[\"Feature\"], sorted_importances[\"Importance\"], color=\"cornflowerblue\")\n",
    "axs[0].set_title(\"Feature Importances\", fontsize=16)\n",
    "axs[0].set_xlabel(\"Importance\", fontsize=14)\n",
    "axs[0].set_ylabel(\"Feature\", fontsize=14)\n",
    "\n",
    "axs[1].barh(sorted_importances_redcols[\"Feature\"], sorted_importances_redcols[\"Importance\"], color=\"salmon\")\n",
    "axs[1].set_title(\"Feature Importances_Reduced Columns\", fontsize=16)\n",
    "axs[1].set_xlabel(\"Importance\", fontsize=14)\n",
    "axs[1].set_ylabel(\"Feature\", fontsize=14)\n",
    "\n",
    "plt.tight_layout()\n",
    "plt.show()\n"
   ]
  },
  {
   "cell_type": "code",
   "execution_count": null,
   "metadata": {},
   "outputs": [],
   "source": []
  },
  {
   "attachments": {},
   "cell_type": "markdown",
   "metadata": {},
   "source": [
    "## 5) Optimización del Random Forest con PCA"
   ]
  },
  {
   "cell_type": "code",
   "execution_count": 39,
   "metadata": {},
   "outputs": [],
   "source": [
    "X = big_data_5.iloc[:, 1:-1]\n",
    "y = big_data_5[\"price\"]\n",
    "\n",
    "# Split the data into train and test\n",
    "X_train, X_test, y_train, y_test = model_selection.train_test_split(X,\n",
    "                                                                    y,\n",
    "                                                                    test_size=0.20,\n",
    "                                                                    random_state=42)\n",
    "\n",
    "# Standardize the data\n",
    "scaler = StandardScaler()\n",
    "scaler.fit(X_train)\n",
    "X_train_scaled = scaler.transform(X_train)\n",
    "X_test_scaled = scaler.transform(X_test)\n",
    "\n",
    "# Apply PCA to reduce dimensionality\n",
    "pca = PCA(n_components=10, random_state=42)\n",
    "X_train_pca = pca.fit_transform(X_train_scaled)\n",
    "X_test_pca = pca.transform(X_test_scaled)"
   ]
  },
  {
   "cell_type": "code",
   "execution_count": 40,
   "metadata": {},
   "outputs": [
    {
     "data": {
      "text/plain": [
       "array([0.2194976 , 0.35591905, 0.46615845, 0.55690277, 0.62326083,\n",
       "       0.68187687, 0.73081868, 0.77838482, 0.82487008, 0.87115805])"
      ]
     },
     "execution_count": 40,
     "metadata": {},
     "output_type": "execute_result"
    }
   ],
   "source": [
    "pca.explained_variance_ratio_.cumsum()"
   ]
  },
  {
   "cell_type": "code",
   "execution_count": 41,
   "metadata": {},
   "outputs": [
    {
     "name": "stderr",
     "output_type": "stream",
     "text": [
      "C:\\Users\\Selvie\\AppData\\Local\\Temp\\ipykernel_7236\\2188728113.py:36: FutureWarning: The frame.append method is deprecated and will be removed from pandas in a future version. Use pandas.concat instead.\n",
      "  metrics_df = metrics_df.append(pd.Series(metrics_test, index=metrics_df.columns), ignore_index=True)\n",
      "C:\\Users\\Selvie\\AppData\\Local\\Temp\\ipykernel_7236\\2188728113.py:37: FutureWarning: The frame.append method is deprecated and will be removed from pandas in a future version. Use pandas.concat instead.\n",
      "  metrics_df = metrics_df.append(pd.Series(metrics_train, index=metrics_df.columns), ignore_index=True)\n"
     ]
    },
    {
     "data": {
      "text/html": [
       "<div>\n",
       "<style scoped>\n",
       "    .dataframe tbody tr th:only-of-type {\n",
       "        vertical-align: middle;\n",
       "    }\n",
       "\n",
       "    .dataframe tbody tr th {\n",
       "        vertical-align: top;\n",
       "    }\n",
       "\n",
       "    .dataframe thead th {\n",
       "        text-align: right;\n",
       "    }\n",
       "</style>\n",
       "<table border=\"1\" class=\"dataframe\">\n",
       "  <thead>\n",
       "    <tr style=\"text-align: right;\">\n",
       "      <th></th>\n",
       "      <th>Model</th>\n",
       "      <th>MSE</th>\n",
       "      <th>RMSE</th>\n",
       "      <th>MAE</th>\n",
       "      <th>MAPE</th>\n",
       "      <th>R2</th>\n",
       "    </tr>\n",
       "  </thead>\n",
       "  <tbody>\n",
       "    <tr>\n",
       "      <th>0</th>\n",
       "      <td>RandomForest_GS_PCA_Test</td>\n",
       "      <td>3198.093576</td>\n",
       "      <td>56.551689</td>\n",
       "      <td>41.519490</td>\n",
       "      <td>0.436321</td>\n",
       "      <td>0.358323</td>\n",
       "    </tr>\n",
       "    <tr>\n",
       "      <th>1</th>\n",
       "      <td>RandomForest_GS_PCA_Train</td>\n",
       "      <td>1538.729039</td>\n",
       "      <td>39.226637</td>\n",
       "      <td>28.443706</td>\n",
       "      <td>29.834608</td>\n",
       "      <td>0.694514</td>\n",
       "    </tr>\n",
       "  </tbody>\n",
       "</table>\n",
       "</div>"
      ],
      "text/plain": [
       "                       Model          MSE       RMSE        MAE       MAPE  \\\n",
       "0   RandomForest_GS_PCA_Test  3198.093576  56.551689  41.519490   0.436321   \n",
       "1  RandomForest_GS_PCA_Train  1538.729039  39.226637  28.443706  29.834608   \n",
       "\n",
       "         R2  \n",
       "0  0.358323  \n",
       "1  0.694514  "
      ]
     },
     "execution_count": 41,
     "metadata": {},
     "output_type": "execute_result"
    }
   ],
   "source": [
    "# Create a RandomForestRegressor\n",
    "rf_gs = RandomForestRegressor(random_state=42, \n",
    "                           max_depth=20, \n",
    "                           min_samples_leaf=1, \n",
    "                           min_samples_split=2, \n",
    "                           n_estimators=250)\n",
    "\n",
    "# Train the data\n",
    "rf_gs.fit(X_train_pca, y_train)\n",
    "\n",
    "# Predict on X_test_pca data\n",
    "y_pred_test = rf_gs.predict(X_test_pca)\n",
    "\n",
    "# Get the metrics for test data\n",
    "mse_test = mean_squared_error(y_test, y_pred_test)\n",
    "rmse_test = np.sqrt(mse_test)\n",
    "mae_test = mean_absolute_error(y_test, y_pred_test)\n",
    "mape_test = mean_absolute_percentage_error(y_test, y_pred_test)\n",
    "r2_test = r2_score(y_test, y_pred_test)\n",
    "\n",
    "\n",
    "# Predict on train set\n",
    "y_pred_train = rf_gs.predict(X_train_pca)\n",
    "\n",
    "# Get the metrics for train data\n",
    "mse_train = mean_squared_error(y_train, y_pred_train)\n",
    "rmse_train = np.sqrt(mse_train)\n",
    "mae_train = mean_absolute_error(y_train, y_pred_train)\n",
    "mape_train = np.mean(np.abs((y_train - y_pred_train) / y_train)) * 100\n",
    "r2_train = r2_score(y_train, y_pred_train)\n",
    "\n",
    "# Add the metrics to the metrics_df dataframe\n",
    "metrics_test = [\"RandomForest_GS_PCA_Test\", mse_test, rmse_test, mae_test, mape_test, r2_test]\n",
    "metrics_train = [\"RandomForest_GS_PCA_Train\", mse_train, rmse_train, mae_train, mape_train, r2_train]\n",
    "metrics_df = pd.DataFrame(columns=[\"Model\", \"MSE\", \"RMSE\", \"MAE\", \"MAPE\", \"R2\"])\n",
    "metrics_df = metrics_df.append(pd.Series(metrics_test, index=metrics_df.columns), ignore_index=True)\n",
    "metrics_df = metrics_df.append(pd.Series(metrics_train, index=metrics_df.columns), ignore_index=True)\n",
    "metrics_df.to_csv(\"../data/output_optimization/big/metrics_5.csv\")\n",
    "metrics_df"
   ]
  },
  {
   "attachments": {},
   "cell_type": "markdown",
   "metadata": {},
   "source": [
    "Comentario:\n",
    "- Las métricas han empeorado utilizando PCA"
   ]
  },
  {
   "cell_type": "code",
   "execution_count": null,
   "metadata": {},
   "outputs": [],
   "source": []
  },
  {
   "attachments": {},
   "cell_type": "markdown",
   "metadata": {},
   "source": [
    "## 6) Optimización - Aplicar la transformación logarítmica en el target (price)"
   ]
  },
  {
   "cell_type": "code",
   "execution_count": 42,
   "metadata": {},
   "outputs": [
    {
     "name": "stderr",
     "output_type": "stream",
     "text": [
      "C:\\Users\\Selvie\\AppData\\Local\\Temp\\ipykernel_7236\\4138456953.py:1: UserWarning: \n",
      "\n",
      "`distplot` is a deprecated function and will be removed in seaborn v0.14.0.\n",
      "\n",
      "Please adapt your code to use either `displot` (a figure-level function with\n",
      "similar flexibility) or `histplot` (an axes-level function for histograms).\n",
      "\n",
      "For a guide to updating your code to use the new functions, please see\n",
      "https://gist.github.com/mwaskom/de44147ed2974457ad6372750bbe5751\n",
      "\n",
      "  sns.distplot(big_data_5[\"price\"]);\n"
     ]
    },
    {
     "data": {
      "image/png": "[encoded data removed]",
      "text/plain": [
       "<Figure size 640x480 with 1 Axes>"
      ]
     },
     "metadata": {},
     "output_type": "display_data"
    }
   ],
   "source": [
    "sns.distplot(big_data_5[\"price\"]);"
   ]
  },
  {
   "cell_type": "code",
   "execution_count": 43,
   "metadata": {},
   "outputs": [
    {
     "name": "stderr",
     "output_type": "stream",
     "text": [
      "C:\\Users\\Selvie\\AppData\\Local\\Temp\\ipykernel_7236\\320828169.py:55: FutureWarning: The frame.append method is deprecated and will be removed from pandas in a future version. Use pandas.concat instead.\n",
      "  metrics_df = metrics_df.append(pd.Series(metrics_test, index=metrics_df.columns), ignore_index=True)\n",
      "C:\\Users\\Selvie\\AppData\\Local\\Temp\\ipykernel_7236\\320828169.py:56: FutureWarning: The frame.append method is deprecated and will be removed from pandas in a future version. Use pandas.concat instead.\n",
      "  metrics_df = metrics_df.append(pd.Series(metrics_train, index=metrics_df.columns), ignore_index=True)\n"
     ]
    },
    {
     "data": {
      "text/html": [
       "<div>\n",
       "<style scoped>\n",
       "    .dataframe tbody tr th:only-of-type {\n",
       "        vertical-align: middle;\n",
       "    }\n",
       "\n",
       "    .dataframe tbody tr th {\n",
       "        vertical-align: top;\n",
       "    }\n",
       "\n",
       "    .dataframe thead th {\n",
       "        text-align: right;\n",
       "    }\n",
       "</style>\n",
       "<table border=\"1\" class=\"dataframe\">\n",
       "  <thead>\n",
       "    <tr style=\"text-align: right;\">\n",
       "      <th></th>\n",
       "      <th>Model</th>\n",
       "      <th>MSE</th>\n",
       "      <th>RMSE</th>\n",
       "      <th>MAE</th>\n",
       "      <th>MAPE</th>\n",
       "      <th>R2</th>\n",
       "    </tr>\n",
       "  </thead>\n",
       "  <tbody>\n",
       "    <tr>\n",
       "      <th>0</th>\n",
       "      <td>RandomForest_GS_Log_Test</td>\n",
       "      <td>3080.369177</td>\n",
       "      <td>55.501074</td>\n",
       "      <td>38.180194</td>\n",
       "      <td>35.491046</td>\n",
       "      <td>0.381944</td>\n",
       "    </tr>\n",
       "    <tr>\n",
       "      <th>1</th>\n",
       "      <td>RandomForest_GS_Log_Train</td>\n",
       "      <td>1394.759793</td>\n",
       "      <td>37.346483</td>\n",
       "      <td>23.944261</td>\n",
       "      <td>20.626956</td>\n",
       "      <td>0.723097</td>\n",
       "    </tr>\n",
       "  </tbody>\n",
       "</table>\n",
       "</div>"
      ],
      "text/plain": [
       "                       Model          MSE       RMSE        MAE       MAPE  \\\n",
       "0   RandomForest_GS_Log_Test  3080.369177  55.501074  38.180194  35.491046   \n",
       "1  RandomForest_GS_Log_Train  1394.759793  37.346483  23.944261  20.626956   \n",
       "\n",
       "         R2  \n",
       "0  0.381944  \n",
       "1  0.723097  "
      ]
     },
     "execution_count": 43,
     "metadata": {},
     "output_type": "execute_result"
    }
   ],
   "source": [
    "# Log-transform the target variable\n",
    "log_price = np.log(big_data_5[\"price\"])\n",
    "big_data_5_log = big_data_5.copy()\n",
    "big_data_5_log[\"log_price\"] = log_price\n",
    "big_data_5_log = big_data_5_log.drop(\"price\", axis=1)\n",
    "\n",
    "# Split the data into train and test sets\n",
    "X = big_data_5_log.iloc[:, 1:-1]\n",
    "y = big_data_5_log[\"log_price\"]\n",
    "X_train, X_test, y_train, y_test = model_selection.train_test_split(X, y, test_size=0.2, random_state=42)\n",
    "\n",
    "# Standardize the data \n",
    "scaler = StandardScaler()\n",
    "scaler.fit(X_train)\n",
    "X_train = scaler.transform(X_train)\n",
    "X_test = scaler.transform(X_test)\n",
    "\n",
    "# Train a Random Forest Regressor model with specified hyperparameters\n",
    "rf_log = RandomForestRegressor(random_state=42, max_depth=20, min_samples_leaf=1, min_samples_split=2, n_estimators=250)\n",
    "rf_log.fit(X_train, y_train)\n",
    "\n",
    "# Make predictions on the test set\n",
    "y_pred_test = rf_log.predict(X_test)\n",
    "\n",
    "# Convert the y_pred_test and the y_test back to the original scale by taking the exponent\n",
    "y_pred_test = np.exp(y_pred_test)\n",
    "y_test = np.exp(y_test)\n",
    "\n",
    "# Calculate evaluation metrics (MSE, RMSE, MAE, MAPE, R2) on the test set\n",
    "mse_test = mean_squared_error(y_test, y_pred_test)\n",
    "rmse_test = mean_squared_error(y_test, y_pred_test, squared=False)\n",
    "mae_test = mean_absolute_error(y_test, y_pred_test)\n",
    "mape_test = np.mean(np.abs((y_test - y_pred_test) / y_test)) * 100\n",
    "r2_test = r2_score(y_test, y_pred_test)\n",
    "\n",
    "\n",
    "# Make predictions on the train set\n",
    "y_pred_train = rf_log.predict(X_train)\n",
    "\n",
    "# Convert the y_pred_train and the y_train back back to the original scale by taking the exponent\n",
    "y_pred_train = np.exp(y_pred_train)\n",
    "y_train = np.exp(y_train)\n",
    "\n",
    "# Calculate evaluation metrics (MSE, RMSE, MAE, MAPE, R2) on the train set\n",
    "mse_train = mean_squared_error(y_train, y_pred_train)\n",
    "rmse_train = mean_squared_error(y_train, y_pred_train, squared=False)\n",
    "mae_train = mean_absolute_error(y_train, y_pred_train)\n",
    "mape_train = np.mean(np.abs((y_train - y_pred_train) / y_train)) * 100\n",
    "r2_train = r2_score(y_train, y_pred_train)\n",
    "\n",
    "# Add the metrics to the metrics_df dataframe\n",
    "metrics_test = [\"RandomForest_GS_Log_Test\", mse_test, rmse_test, mae_test, mape_test, r2_test]\n",
    "metrics_train = [\"RandomForest_GS_Log_Train\", mse_train, rmse_train, mae_train, mape_train, r2_train]\n",
    "metrics_df = pd.DataFrame(columns=[\"Model\", \"MSE\", \"RMSE\", \"MAE\", \"MAPE\", \"R2\"])\n",
    "metrics_df = metrics_df.append(pd.Series(metrics_test, index=metrics_df.columns), ignore_index=True)\n",
    "metrics_df = metrics_df.append(pd.Series(metrics_train, index=metrics_df.columns), ignore_index=True)\n",
    "metrics_df.to_csv(\"../data/output_optimization/big/metrics_6.csv\")\n",
    "metrics_df"
   ]
  },
  {
   "attachments": {},
   "cell_type": "markdown",
   "metadata": {},
   "source": [
    "Comentario:\n",
    "- El MAE ha mejorado, aunque no es una mejora significativa"
   ]
  },
  {
   "cell_type": "code",
   "execution_count": null,
   "metadata": {},
   "outputs": [],
   "source": []
  },
  {
   "attachments": {},
   "cell_type": "markdown",
   "metadata": {},
   "source": [
    "## 7) Optimización - Aplicar la transformación logarítmica en el target (price) y ejecuta con el dataset de columnas reducidas (7 features más importantes)"
   ]
  },
  {
   "cell_type": "code",
   "execution_count": 44,
   "metadata": {},
   "outputs": [
    {
     "data": {
      "text/plain": [
       "['id',\n",
       " 'availability_365',\n",
       " 'room_type',\n",
       " 'reviews_per_month',\n",
       " 'calculated_host_listings_count',\n",
       " 'number_of_reviews',\n",
       " 'minimum_nights',\n",
       " 'price']"
      ]
     },
     "execution_count": 44,
     "metadata": {},
     "output_type": "execute_result"
    }
   ],
   "source": [
    "imp_cols"
   ]
  },
  {
   "cell_type": "code",
   "execution_count": 45,
   "metadata": {},
   "outputs": [
    {
     "name": "stderr",
     "output_type": "stream",
     "text": [
      "C:\\Users\\Selvie\\AppData\\Local\\Temp\\ipykernel_7236\\3617090802.py:57: FutureWarning: The frame.append method is deprecated and will be removed from pandas in a future version. Use pandas.concat instead.\n",
      "  metrics_df = metrics_df.append(pd.Series(metrics_test, index=metrics_df.columns), ignore_index=True)\n",
      "C:\\Users\\Selvie\\AppData\\Local\\Temp\\ipykernel_7236\\3617090802.py:58: FutureWarning: The frame.append method is deprecated and will be removed from pandas in a future version. Use pandas.concat instead.\n",
      "  metrics_df = metrics_df.append(pd.Series(metrics_train, index=metrics_df.columns), ignore_index=True)\n"
     ]
    },
    {
     "data": {
      "text/html": [
       "<div>\n",
       "<style scoped>\n",
       "    .dataframe tbody tr th:only-of-type {\n",
       "        vertical-align: middle;\n",
       "    }\n",
       "\n",
       "    .dataframe tbody tr th {\n",
       "        vertical-align: top;\n",
       "    }\n",
       "\n",
       "    .dataframe thead th {\n",
       "        text-align: right;\n",
       "    }\n",
       "</style>\n",
       "<table border=\"1\" class=\"dataframe\">\n",
       "  <thead>\n",
       "    <tr style=\"text-align: right;\">\n",
       "      <th></th>\n",
       "      <th>Model</th>\n",
       "      <th>MSE</th>\n",
       "      <th>RMSE</th>\n",
       "      <th>MAE</th>\n",
       "      <th>MAPE</th>\n",
       "      <th>R2</th>\n",
       "    </tr>\n",
       "  </thead>\n",
       "  <tbody>\n",
       "    <tr>\n",
       "      <th>0</th>\n",
       "      <td>RandomForest_GS_Log_Test</td>\n",
       "      <td>3336.413251</td>\n",
       "      <td>57.761694</td>\n",
       "      <td>40.166099</td>\n",
       "      <td>37.721992</td>\n",
       "      <td>0.330570</td>\n",
       "    </tr>\n",
       "    <tr>\n",
       "      <th>1</th>\n",
       "      <td>RandomForest_GS_Log_Train</td>\n",
       "      <td>1729.057930</td>\n",
       "      <td>41.581942</td>\n",
       "      <td>26.965803</td>\n",
       "      <td>23.321603</td>\n",
       "      <td>0.656728</td>\n",
       "    </tr>\n",
       "  </tbody>\n",
       "</table>\n",
       "</div>"
      ],
      "text/plain": [
       "                       Model          MSE       RMSE        MAE       MAPE  \\\n",
       "0   RandomForest_GS_Log_Test  3336.413251  57.761694  40.166099  37.721992   \n",
       "1  RandomForest_GS_Log_Train  1729.057930  41.581942  26.965803  23.321603   \n",
       "\n",
       "         R2  \n",
       "0  0.330570  \n",
       "1  0.656728  "
      ]
     },
     "execution_count": 45,
     "metadata": {},
     "output_type": "execute_result"
    }
   ],
   "source": [
    "# Log-transform the target variable\n",
    "log_price = np.log(big_data_5[\"price\"])\n",
    "big_data_5_log = big_data_5.copy()\n",
    "big_data_5_log = big_data_5_log[imp_cols]\n",
    "big_data_5_log[\"log_price\"] = log_price\n",
    "big_data_5_log = big_data_5_log.drop(\"price\", axis=1)\n",
    "\n",
    "# Split the data into train and test sets\n",
    "X = big_data_5_log.iloc[:, 1:-1]\n",
    "y = big_data_5_log[\"log_price\"]\n",
    "\n",
    "X_train, X_test, y_train, y_test = model_selection.train_test_split(X, y, test_size=0.2, random_state=42)\n",
    "\n",
    "# Standardize the data \n",
    "scaler = StandardScaler()\n",
    "scaler.fit(X_train)\n",
    "X_train = scaler.transform(X_train)\n",
    "X_test = scaler.transform(X_test)\n",
    "\n",
    "# Train a Random Forest Regressor model with specified hyperparameters\n",
    "rf_log = RandomForestRegressor(random_state=42, max_depth=20, min_samples_leaf=1, min_samples_split=2, n_estimators=250)\n",
    "rf_log.fit(X_train, y_train)\n",
    "\n",
    "# Make predictions on the test set\n",
    "y_pred_test = rf_log.predict(X_test)\n",
    "\n",
    "# Convert the y_pred_test and the y_test back to the original scale by taking the exponent\n",
    "y_pred_test = np.exp(y_pred_test)\n",
    "y_test = np.exp(y_test)\n",
    "\n",
    "# Calculate evaluation metrics (MSE, RMSE, MAE, MAPE, R2) on the test set\n",
    "mse_test = mean_squared_error(y_test, y_pred_test)\n",
    "rmse_test = mean_squared_error(y_test, y_pred_test, squared=False)\n",
    "mae_test = mean_absolute_error(y_test, y_pred_test)\n",
    "mape_test = np.mean(np.abs((y_test - y_pred_test) / y_test)) * 100\n",
    "r2_test = r2_score(y_test, y_pred_test)\n",
    "\n",
    "\n",
    "# Make predictions on the train set\n",
    "y_pred_train = rf_log.predict(X_train)\n",
    "\n",
    "# Convert the y_pred_train and the y_train back back to the original scale by taking the exponent\n",
    "y_pred_train = np.exp(y_pred_train)\n",
    "y_train = np.exp(y_train)\n",
    "\n",
    "# Calculate evaluation metrics (MSE, RMSE, MAE, MAPE, R2) on the train set\n",
    "mse_train = mean_squared_error(y_train, y_pred_train)\n",
    "rmse_train = mean_squared_error(y_train, y_pred_train, squared=False)\n",
    "mae_train = mean_absolute_error(y_train, y_pred_train)\n",
    "mape_train = np.mean(np.abs((y_train - y_pred_train) / y_train)) * 100\n",
    "r2_train = r2_score(y_train, y_pred_train)\n",
    "\n",
    "# Add the metrics to the metrics_df dataframe\n",
    "metrics_test = [\"RandomForest_GS_Log_Test\", mse_test, rmse_test, mae_test, mape_test, r2_test]\n",
    "metrics_train = [\"RandomForest_GS_Log_Train\", mse_train, rmse_train, mae_train, mape_train, r2_train]\n",
    "metrics_df = pd.DataFrame(columns=[\"Model\", \"MSE\", \"RMSE\", \"MAE\", \"MAPE\", \"R2\"])\n",
    "metrics_df = metrics_df.append(pd.Series(metrics_test, index=metrics_df.columns), ignore_index=True)\n",
    "metrics_df = metrics_df.append(pd.Series(metrics_train, index=metrics_df.columns), ignore_index=True)\n",
    "metrics_df.to_csv(\"../data/output_optimization/big/metrics_7.csv\")\n",
    "metrics_df"
   ]
  },
  {
   "cell_type": "code",
   "execution_count": null,
   "metadata": {},
   "outputs": [],
   "source": []
  },
  {
   "attachments": {},
   "cell_type": "markdown",
   "metadata": {},
   "source": [
    "## RESUMEN"
   ]
  },
  {
   "attachments": {},
   "cell_type": "markdown",
   "metadata": {},
   "source": [
    "Abre las métricas del modelo base"
   ]
  },
  {
   "cell_type": "code",
   "execution_count": 46,
   "metadata": {},
   "outputs": [
    {
     "data": {
      "text/html": [
       "<div>\n",
       "<style scoped>\n",
       "    .dataframe tbody tr th:only-of-type {\n",
       "        vertical-align: middle;\n",
       "    }\n",
       "\n",
       "    .dataframe tbody tr th {\n",
       "        vertical-align: top;\n",
       "    }\n",
       "\n",
       "    .dataframe thead th {\n",
       "        text-align: right;\n",
       "    }\n",
       "</style>\n",
       "<table border=\"1\" class=\"dataframe\">\n",
       "  <thead>\n",
       "    <tr style=\"text-align: right;\">\n",
       "      <th></th>\n",
       "      <th>Model</th>\n",
       "      <th>MSE</th>\n",
       "      <th>RMSE</th>\n",
       "      <th>MAE</th>\n",
       "      <th>MAPE</th>\n",
       "      <th>R2</th>\n",
       "    </tr>\n",
       "  </thead>\n",
       "  <tbody>\n",
       "    <tr>\n",
       "      <th>0</th>\n",
       "      <td>RandomForest</td>\n",
       "      <td>3101.82247</td>\n",
       "      <td>55.694007</td>\n",
       "      <td>40.526673</td>\n",
       "      <td>0.424958</td>\n",
       "      <td>0.377639</td>\n",
       "    </tr>\n",
       "  </tbody>\n",
       "</table>\n",
       "</div>"
      ],
      "text/plain": [
       "          Model         MSE       RMSE        MAE      MAPE        R2\n",
       "0  RandomForest  3101.82247  55.694007  40.526673  0.424958  0.377639"
      ]
     },
     "execution_count": 46,
     "metadata": {},
     "output_type": "execute_result"
    }
   ],
   "source": [
    "res_big_5 = pd.read_csv(\"../data/output_data_5/metrics_big_data_no_outliers_cols_3.csv\")\n",
    "res_big_5[res_big_5[\"MAE\"] == (res_big_5[\"MAE\"].min())]"
   ]
  },
  {
   "attachments": {},
   "cell_type": "markdown",
   "metadata": {},
   "source": [
    "Juntar las métricas de todas las pruebas de optimización\n",
    "\n",
    "Para referencia, esta es el número de pruebas de optimización\n",
    "1) Optimización del RandomForest con el Grid Search\n",
    "2) Optimización del RandomForest con el Feature Importance\n",
    "3) Optimización - Quitar columnas que tienen media-alta correlación\n",
    "4) Optimización - Aplicar el feature importance otra vez en base al apartado 3\n",
    "5) Optimización del Random Forest con PCA\n",
    "6) Optimización - Aplicar la transformación logarítmica en el target (price)\n",
    "7) Optimización - Aplicar la transformación logarítmica en el target (price) y ejecuta con el dataset de columnas reducidas (7 features más importantes)"
   ]
  },
  {
   "cell_type": "code",
   "execution_count": 47,
   "metadata": {},
   "outputs": [
    {
     "name": "stderr",
     "output_type": "stream",
     "text": [
      "C:\\Users\\Selvie\\AppData\\Local\\Temp\\ipykernel_7236\\4164321253.py:10: FutureWarning: The frame.append method is deprecated and will be removed from pandas in a future version. Use pandas.concat instead.\n",
      "  all_metrics_df = all_metrics_df.append(metrics_df)\n",
      "C:\\Users\\Selvie\\AppData\\Local\\Temp\\ipykernel_7236\\4164321253.py:10: FutureWarning: The frame.append method is deprecated and will be removed from pandas in a future version. Use pandas.concat instead.\n",
      "  all_metrics_df = all_metrics_df.append(metrics_df)\n",
      "C:\\Users\\Selvie\\AppData\\Local\\Temp\\ipykernel_7236\\4164321253.py:10: FutureWarning: The frame.append method is deprecated and will be removed from pandas in a future version. Use pandas.concat instead.\n",
      "  all_metrics_df = all_metrics_df.append(metrics_df)\n",
      "C:\\Users\\Selvie\\AppData\\Local\\Temp\\ipykernel_7236\\4164321253.py:10: FutureWarning: The frame.append method is deprecated and will be removed from pandas in a future version. Use pandas.concat instead.\n",
      "  all_metrics_df = all_metrics_df.append(metrics_df)\n",
      "C:\\Users\\Selvie\\AppData\\Local\\Temp\\ipykernel_7236\\4164321253.py:10: FutureWarning: The frame.append method is deprecated and will be removed from pandas in a future version. Use pandas.concat instead.\n",
      "  all_metrics_df = all_metrics_df.append(metrics_df)\n",
      "C:\\Users\\Selvie\\AppData\\Local\\Temp\\ipykernel_7236\\4164321253.py:10: FutureWarning: The frame.append method is deprecated and will be removed from pandas in a future version. Use pandas.concat instead.\n",
      "  all_metrics_df = all_metrics_df.append(metrics_df)\n",
      "C:\\Users\\Selvie\\AppData\\Local\\Temp\\ipykernel_7236\\4164321253.py:10: FutureWarning: The frame.append method is deprecated and will be removed from pandas in a future version. Use pandas.concat instead.\n",
      "  all_metrics_df = all_metrics_df.append(metrics_df)\n"
     ]
    },
    {
     "data": {
      "text/html": [
       "<div>\n",
       "<style scoped>\n",
       "    .dataframe tbody tr th:only-of-type {\n",
       "        vertical-align: middle;\n",
       "    }\n",
       "\n",
       "    .dataframe tbody tr th {\n",
       "        vertical-align: top;\n",
       "    }\n",
       "\n",
       "    .dataframe thead th {\n",
       "        text-align: right;\n",
       "    }\n",
       "</style>\n",
       "<table border=\"1\" class=\"dataframe\">\n",
       "  <thead>\n",
       "    <tr style=\"text-align: right;\">\n",
       "      <th></th>\n",
       "      <th>Model</th>\n",
       "      <th>MSE</th>\n",
       "      <th>RMSE</th>\n",
       "      <th>MAE</th>\n",
       "      <th>MAPE</th>\n",
       "      <th>R2</th>\n",
       "      <th>Optimization</th>\n",
       "    </tr>\n",
       "  </thead>\n",
       "  <tbody>\n",
       "    <tr>\n",
       "      <th>0</th>\n",
       "      <td>RandomForest_Test</td>\n",
       "      <td>3004.271876</td>\n",
       "      <td>54.811239</td>\n",
       "      <td>39.936086</td>\n",
       "      <td>41.865388</td>\n",
       "      <td>0.397212</td>\n",
       "      <td>Grid Search</td>\n",
       "    </tr>\n",
       "    <tr>\n",
       "      <th>1</th>\n",
       "      <td>RandomForest_Train</td>\n",
       "      <td>1176.504183</td>\n",
       "      <td>34.300207</td>\n",
       "      <td>24.227952</td>\n",
       "      <td>25.038833</td>\n",
       "      <td>0.766427</td>\n",
       "      <td>Grid Search</td>\n",
       "    </tr>\n",
       "    <tr>\n",
       "      <th>0</th>\n",
       "      <td>RandomForest_Test</td>\n",
       "      <td>3149.477367</td>\n",
       "      <td>56.120205</td>\n",
       "      <td>40.812764</td>\n",
       "      <td>42.810777</td>\n",
       "      <td>0.368078</td>\n",
       "      <td>Feature Importance</td>\n",
       "    </tr>\n",
       "    <tr>\n",
       "      <th>1</th>\n",
       "      <td>RandomForest_Train</td>\n",
       "      <td>616.585945</td>\n",
       "      <td>24.831149</td>\n",
       "      <td>16.839478</td>\n",
       "      <td>17.835819</td>\n",
       "      <td>0.877588</td>\n",
       "      <td>Feature Importance</td>\n",
       "    </tr>\n",
       "    <tr>\n",
       "      <th>0</th>\n",
       "      <td>RandomForest_Test</td>\n",
       "      <td>3124.562402</td>\n",
       "      <td>55.897785</td>\n",
       "      <td>40.537104</td>\n",
       "      <td>42.343562</td>\n",
       "      <td>0.373077</td>\n",
       "      <td>Drop Med-High Corr Columns</td>\n",
       "    </tr>\n",
       "    <tr>\n",
       "      <th>1</th>\n",
       "      <td>RandomForest_Train</td>\n",
       "      <td>602.450065</td>\n",
       "      <td>24.544858</td>\n",
       "      <td>16.660132</td>\n",
       "      <td>17.611503</td>\n",
       "      <td>0.880395</td>\n",
       "      <td>Drop Med-High Corr Columns</td>\n",
       "    </tr>\n",
       "    <tr>\n",
       "      <th>0</th>\n",
       "      <td>RandomForest_Test</td>\n",
       "      <td>3409.448323</td>\n",
       "      <td>58.390481</td>\n",
       "      <td>42.861947</td>\n",
       "      <td>45.366230</td>\n",
       "      <td>0.315916</td>\n",
       "      <td>Corr_Feature Importance</td>\n",
       "    </tr>\n",
       "    <tr>\n",
       "      <th>1</th>\n",
       "      <td>RandomForest_Train</td>\n",
       "      <td>720.619111</td>\n",
       "      <td>26.844350</td>\n",
       "      <td>18.121041</td>\n",
       "      <td>19.454369</td>\n",
       "      <td>0.856935</td>\n",
       "      <td>Corr_Feature Importance</td>\n",
       "    </tr>\n",
       "    <tr>\n",
       "      <th>0</th>\n",
       "      <td>RandomForest_GS_PCA_Test</td>\n",
       "      <td>3198.093576</td>\n",
       "      <td>56.551689</td>\n",
       "      <td>41.519490</td>\n",
       "      <td>0.436321</td>\n",
       "      <td>0.358323</td>\n",
       "      <td>PCA</td>\n",
       "    </tr>\n",
       "    <tr>\n",
       "      <th>1</th>\n",
       "      <td>RandomForest_GS_PCA_Train</td>\n",
       "      <td>1538.729039</td>\n",
       "      <td>39.226637</td>\n",
       "      <td>28.443706</td>\n",
       "      <td>29.834608</td>\n",
       "      <td>0.694514</td>\n",
       "      <td>PCA</td>\n",
       "    </tr>\n",
       "    <tr>\n",
       "      <th>0</th>\n",
       "      <td>RandomForest_GS_Log_Test</td>\n",
       "      <td>3080.369177</td>\n",
       "      <td>55.501074</td>\n",
       "      <td>38.180194</td>\n",
       "      <td>35.491046</td>\n",
       "      <td>0.381944</td>\n",
       "      <td>Log Transformation</td>\n",
       "    </tr>\n",
       "    <tr>\n",
       "      <th>1</th>\n",
       "      <td>RandomForest_GS_Log_Train</td>\n",
       "      <td>1394.759793</td>\n",
       "      <td>37.346483</td>\n",
       "      <td>23.944261</td>\n",
       "      <td>20.626956</td>\n",
       "      <td>0.723097</td>\n",
       "      <td>Log Transformation</td>\n",
       "    </tr>\n",
       "    <tr>\n",
       "      <th>0</th>\n",
       "      <td>RandomForest_GS_Log_Test</td>\n",
       "      <td>3336.413251</td>\n",
       "      <td>57.761694</td>\n",
       "      <td>40.166099</td>\n",
       "      <td>37.721992</td>\n",
       "      <td>0.330570</td>\n",
       "      <td>Log Transform_Feat. Imp.</td>\n",
       "    </tr>\n",
       "    <tr>\n",
       "      <th>1</th>\n",
       "      <td>RandomForest_GS_Log_Train</td>\n",
       "      <td>1729.057930</td>\n",
       "      <td>41.581942</td>\n",
       "      <td>26.965803</td>\n",
       "      <td>23.321603</td>\n",
       "      <td>0.656728</td>\n",
       "      <td>Log Transform_Feat. Imp.</td>\n",
       "    </tr>\n",
       "  </tbody>\n",
       "</table>\n",
       "</div>"
      ],
      "text/plain": [
       "                       Model          MSE       RMSE        MAE       MAPE  \\\n",
       "0          RandomForest_Test  3004.271876  54.811239  39.936086  41.865388   \n",
       "1         RandomForest_Train  1176.504183  34.300207  24.227952  25.038833   \n",
       "0          RandomForest_Test  3149.477367  56.120205  40.812764  42.810777   \n",
       "1         RandomForest_Train   616.585945  24.831149  16.839478  17.835819   \n",
       "0          RandomForest_Test  3124.562402  55.897785  40.537104  42.343562   \n",
       "1         RandomForest_Train   602.450065  24.544858  16.660132  17.611503   \n",
       "0          RandomForest_Test  3409.448323  58.390481  42.861947  45.366230   \n",
       "1         RandomForest_Train   720.619111  26.844350  18.121041  19.454369   \n",
       "0   RandomForest_GS_PCA_Test  3198.093576  56.551689  41.519490   0.436321   \n",
       "1  RandomForest_GS_PCA_Train  1538.729039  39.226637  28.443706  29.834608   \n",
       "0   RandomForest_GS_Log_Test  3080.369177  55.501074  38.180194  35.491046   \n",
       "1  RandomForest_GS_Log_Train  1394.759793  37.346483  23.944261  20.626956   \n",
       "0   RandomForest_GS_Log_Test  3336.413251  57.761694  40.166099  37.721992   \n",
       "1  RandomForest_GS_Log_Train  1729.057930  41.581942  26.965803  23.321603   \n",
       "\n",
       "         R2                Optimization  \n",
       "0  0.397212                 Grid Search  \n",
       "1  0.766427                 Grid Search  \n",
       "0  0.368078          Feature Importance  \n",
       "1  0.877588          Feature Importance  \n",
       "0  0.373077  Drop Med-High Corr Columns  \n",
       "1  0.880395  Drop Med-High Corr Columns  \n",
       "0  0.315916     Corr_Feature Importance  \n",
       "1  0.856935     Corr_Feature Importance  \n",
       "0  0.358323                         PCA  \n",
       "1  0.694514                         PCA  \n",
       "0  0.381944          Log Transformation  \n",
       "1  0.723097          Log Transformation  \n",
       "0  0.330570    Log Transform_Feat. Imp.  \n",
       "1  0.656728    Log Transform_Feat. Imp.  "
      ]
     },
     "execution_count": 47,
     "metadata": {},
     "output_type": "execute_result"
    }
   ],
   "source": [
    "# Create an empty DataFrame to store all the metrics\n",
    "all_metrics_df = pd.DataFrame()\n",
    "\n",
    "# Loop through all the CSV files with the specified format names\n",
    "for filename in glob.glob(\"../data/output_optimization/big/metrics_*.csv\"):\n",
    "    # Read in the CSV file as a DataFrame\n",
    "    metrics_df = pd.read_csv(filename, index_col=0)\n",
    "    \n",
    "    # Append the metrics to the all_metrics_df DataFrame\n",
    "    all_metrics_df = all_metrics_df.append(metrics_df)\n",
    "\n",
    "# # Add the number of optimization experiment\n",
    "# all_metrics_df[\"Optimization_No\"] = [i for i in range(1, 7) for _ in range(2)]\n",
    "\n",
    "all_metrics_df[\"Optimization\"] = [\"Grid Search\", \"Grid Search\",\n",
    "                                  \"Feature Importance\", \"Feature Importance\",\n",
    "                                  \"Drop Med-High Corr Columns\", \"Drop Med-High Corr Columns\",\n",
    "                                  \"Corr_Feature Importance\", \"Corr_Feature Importance\",\n",
    "                                  \"PCA\", \"PCA\",\n",
    "                                  \"Log Transformation\", \"Log Transformation\",\n",
    "                                  \"Log Transform_Feat. Imp.\", \"Log Transform_Feat. Imp.\"]\n",
    "\n",
    "# Print the concatenated DataFrame\n",
    "all_metrics_df"
   ]
  },
  {
   "attachments": {},
   "cell_type": "markdown",
   "metadata": {},
   "source": [
    "Divide las métricas entre test y train y compáralas"
   ]
  },
  {
   "cell_type": "code",
   "execution_count": 48,
   "metadata": {},
   "outputs": [
    {
     "data": {
      "text/html": [
       "<div>\n",
       "<style scoped>\n",
       "    .dataframe tbody tr th:only-of-type {\n",
       "        vertical-align: middle;\n",
       "    }\n",
       "\n",
       "    .dataframe tbody tr th {\n",
       "        vertical-align: top;\n",
       "    }\n",
       "\n",
       "    .dataframe thead th {\n",
       "        text-align: right;\n",
       "    }\n",
       "</style>\n",
       "<table border=\"1\" class=\"dataframe\">\n",
       "  <thead>\n",
       "    <tr style=\"text-align: right;\">\n",
       "      <th></th>\n",
       "      <th>Model</th>\n",
       "      <th>MSE</th>\n",
       "      <th>RMSE</th>\n",
       "      <th>MAE</th>\n",
       "      <th>MAPE</th>\n",
       "      <th>R2</th>\n",
       "      <th>Optimization</th>\n",
       "    </tr>\n",
       "  </thead>\n",
       "  <tbody>\n",
       "    <tr>\n",
       "      <th>0</th>\n",
       "      <td>RandomForest_GS_Log_Test</td>\n",
       "      <td>3080.369177</td>\n",
       "      <td>55.501074</td>\n",
       "      <td>38.180194</td>\n",
       "      <td>35.491046</td>\n",
       "      <td>0.381944</td>\n",
       "      <td>Log Transformation</td>\n",
       "    </tr>\n",
       "  </tbody>\n",
       "</table>\n",
       "</div>"
      ],
      "text/plain": [
       "                      Model          MSE       RMSE        MAE       MAPE  \\\n",
       "0  RandomForest_GS_Log_Test  3080.369177  55.501074  38.180194  35.491046   \n",
       "\n",
       "         R2        Optimization  \n",
       "0  0.381944  Log Transformation  "
      ]
     },
     "execution_count": 48,
     "metadata": {},
     "output_type": "execute_result"
    }
   ],
   "source": [
    "test_metrics = all_metrics_df[all_metrics_df[\"Model\"].str.contains(\"Test\")]\n",
    "test_metrics[test_metrics[\"MAE\"] == test_metrics[\"MAE\"].min()]"
   ]
  },
  {
   "cell_type": "code",
   "execution_count": 76,
   "metadata": {},
   "outputs": [
    {
     "data": {
      "text/html": [
       "<div>\n",
       "<style scoped>\n",
       "    .dataframe tbody tr th:only-of-type {\n",
       "        vertical-align: middle;\n",
       "    }\n",
       "\n",
       "    .dataframe tbody tr th {\n",
       "        vertical-align: top;\n",
       "    }\n",
       "\n",
       "    .dataframe thead th {\n",
       "        text-align: right;\n",
       "    }\n",
       "</style>\n",
       "<table border=\"1\" class=\"dataframe\">\n",
       "  <thead>\n",
       "    <tr style=\"text-align: right;\">\n",
       "      <th></th>\n",
       "      <th>Model</th>\n",
       "      <th>Optimization</th>\n",
       "      <th>MSE</th>\n",
       "      <th>RMSE</th>\n",
       "      <th>MAE</th>\n",
       "      <th>MAPE</th>\n",
       "      <th>R2</th>\n",
       "    </tr>\n",
       "  </thead>\n",
       "  <tbody>\n",
       "    <tr>\n",
       "      <th>0</th>\n",
       "      <td>RandomForest_Test</td>\n",
       "      <td>Grid Search</td>\n",
       "      <td>3004.271876</td>\n",
       "      <td>54.811239</td>\n",
       "      <td>39.936086</td>\n",
       "      <td>41.865388</td>\n",
       "      <td>0.397212</td>\n",
       "    </tr>\n",
       "    <tr>\n",
       "      <th>0</th>\n",
       "      <td>RandomForest_Test</td>\n",
       "      <td>Feature Importance</td>\n",
       "      <td>3149.477367</td>\n",
       "      <td>56.120205</td>\n",
       "      <td>40.812764</td>\n",
       "      <td>42.810777</td>\n",
       "      <td>0.368078</td>\n",
       "    </tr>\n",
       "    <tr>\n",
       "      <th>0</th>\n",
       "      <td>RandomForest_Test</td>\n",
       "      <td>Drop Med-High Corr Columns</td>\n",
       "      <td>3124.562402</td>\n",
       "      <td>55.897785</td>\n",
       "      <td>40.537104</td>\n",
       "      <td>42.343562</td>\n",
       "      <td>0.373077</td>\n",
       "    </tr>\n",
       "    <tr>\n",
       "      <th>0</th>\n",
       "      <td>RandomForest_Test</td>\n",
       "      <td>Corr_Feature Importance</td>\n",
       "      <td>3409.448323</td>\n",
       "      <td>58.390481</td>\n",
       "      <td>42.861947</td>\n",
       "      <td>45.366230</td>\n",
       "      <td>0.315916</td>\n",
       "    </tr>\n",
       "    <tr>\n",
       "      <th>0</th>\n",
       "      <td>RandomForest_GS_PCA_Test</td>\n",
       "      <td>PCA</td>\n",
       "      <td>3198.093576</td>\n",
       "      <td>56.551689</td>\n",
       "      <td>41.519490</td>\n",
       "      <td>0.436321</td>\n",
       "      <td>0.358323</td>\n",
       "    </tr>\n",
       "    <tr>\n",
       "      <th>0</th>\n",
       "      <td>RandomForest_GS_Log_Test</td>\n",
       "      <td>Log Transformation</td>\n",
       "      <td>3080.369177</td>\n",
       "      <td>55.501074</td>\n",
       "      <td>38.180194</td>\n",
       "      <td>35.491046</td>\n",
       "      <td>0.381944</td>\n",
       "    </tr>\n",
       "    <tr>\n",
       "      <th>0</th>\n",
       "      <td>RandomForest_GS_Log_Test</td>\n",
       "      <td>Log Transform_Feat. Imp.</td>\n",
       "      <td>3336.413251</td>\n",
       "      <td>57.761694</td>\n",
       "      <td>40.166099</td>\n",
       "      <td>37.721992</td>\n",
       "      <td>0.330570</td>\n",
       "    </tr>\n",
       "  </tbody>\n",
       "</table>\n",
       "</div>"
      ],
      "text/plain": [
       "                      Model                Optimization          MSE  \\\n",
       "0         RandomForest_Test                 Grid Search  3004.271876   \n",
       "0         RandomForest_Test          Feature Importance  3149.477367   \n",
       "0         RandomForest_Test  Drop Med-High Corr Columns  3124.562402   \n",
       "0         RandomForest_Test     Corr_Feature Importance  3409.448323   \n",
       "0  RandomForest_GS_PCA_Test                         PCA  3198.093576   \n",
       "0  RandomForest_GS_Log_Test          Log Transformation  3080.369177   \n",
       "0  RandomForest_GS_Log_Test    Log Transform_Feat. Imp.  3336.413251   \n",
       "\n",
       "        RMSE        MAE       MAPE        R2  \n",
       "0  54.811239  39.936086  41.865388  0.397212  \n",
       "0  56.120205  40.812764  42.810777  0.368078  \n",
       "0  55.897785  40.537104  42.343562  0.373077  \n",
       "0  58.390481  42.861947  45.366230  0.315916  \n",
       "0  56.551689  41.519490   0.436321  0.358323  \n",
       "0  55.501074  38.180194  35.491046  0.381944  \n",
       "0  57.761694  40.166099  37.721992  0.330570  "
      ]
     },
     "execution_count": 76,
     "metadata": {},
     "output_type": "execute_result"
    }
   ],
   "source": [
    "# test_metrics = test_metrics.sort_values(by=[\"MAE\"])\n",
    "test_metrics = test_metrics[['Model', 'Optimization', 'MSE', 'RMSE', 'MAE', 'MAPE', 'R2']]\n",
    "test_metrics"
   ]
  },
  {
   "cell_type": "code",
   "execution_count": 50,
   "metadata": {},
   "outputs": [
    {
     "data": {
      "text/html": [
       "<div>\n",
       "<style scoped>\n",
       "    .dataframe tbody tr th:only-of-type {\n",
       "        vertical-align: middle;\n",
       "    }\n",
       "\n",
       "    .dataframe tbody tr th {\n",
       "        vertical-align: top;\n",
       "    }\n",
       "\n",
       "    .dataframe thead th {\n",
       "        text-align: right;\n",
       "    }\n",
       "</style>\n",
       "<table border=\"1\" class=\"dataframe\">\n",
       "  <thead>\n",
       "    <tr style=\"text-align: right;\">\n",
       "      <th></th>\n",
       "      <th>Model</th>\n",
       "      <th>MSE</th>\n",
       "      <th>RMSE</th>\n",
       "      <th>MAE</th>\n",
       "      <th>MAPE</th>\n",
       "      <th>R2</th>\n",
       "      <th>Optimization</th>\n",
       "    </tr>\n",
       "  </thead>\n",
       "  <tbody>\n",
       "    <tr>\n",
       "      <th>1</th>\n",
       "      <td>RandomForest_Train</td>\n",
       "      <td>602.450065</td>\n",
       "      <td>24.544858</td>\n",
       "      <td>16.660132</td>\n",
       "      <td>17.611503</td>\n",
       "      <td>0.880395</td>\n",
       "      <td>Drop Med-High Corr Columns</td>\n",
       "    </tr>\n",
       "  </tbody>\n",
       "</table>\n",
       "</div>"
      ],
      "text/plain": [
       "                Model         MSE       RMSE        MAE       MAPE        R2  \\\n",
       "1  RandomForest_Train  602.450065  24.544858  16.660132  17.611503  0.880395   \n",
       "\n",
       "                 Optimization  \n",
       "1  Drop Med-High Corr Columns  "
      ]
     },
     "execution_count": 50,
     "metadata": {},
     "output_type": "execute_result"
    }
   ],
   "source": [
    "train_metrics = all_metrics_df[all_metrics_df[\"Model\"].str.contains(\"Train\")]\n",
    "train_metrics[train_metrics[\"MAE\"] == train_metrics[\"MAE\"].min()]"
   ]
  },
  {
   "cell_type": "code",
   "execution_count": 78,
   "metadata": {},
   "outputs": [
    {
     "data": {
      "text/html": [
       "<div>\n",
       "<style scoped>\n",
       "    .dataframe tbody tr th:only-of-type {\n",
       "        vertical-align: middle;\n",
       "    }\n",
       "\n",
       "    .dataframe tbody tr th {\n",
       "        vertical-align: top;\n",
       "    }\n",
       "\n",
       "    .dataframe thead th {\n",
       "        text-align: right;\n",
       "    }\n",
       "</style>\n",
       "<table border=\"1\" class=\"dataframe\">\n",
       "  <thead>\n",
       "    <tr style=\"text-align: right;\">\n",
       "      <th></th>\n",
       "      <th>Model</th>\n",
       "      <th>Optimization</th>\n",
       "      <th>MSE</th>\n",
       "      <th>RMSE</th>\n",
       "      <th>MAE</th>\n",
       "      <th>MAPE</th>\n",
       "      <th>R2</th>\n",
       "    </tr>\n",
       "  </thead>\n",
       "  <tbody>\n",
       "    <tr>\n",
       "      <th>1</th>\n",
       "      <td>RandomForest_Train</td>\n",
       "      <td>Grid Search</td>\n",
       "      <td>1176.504183</td>\n",
       "      <td>34.300207</td>\n",
       "      <td>24.227952</td>\n",
       "      <td>25.038833</td>\n",
       "      <td>0.766427</td>\n",
       "    </tr>\n",
       "    <tr>\n",
       "      <th>1</th>\n",
       "      <td>RandomForest_Train</td>\n",
       "      <td>Feature Importance</td>\n",
       "      <td>616.585945</td>\n",
       "      <td>24.831149</td>\n",
       "      <td>16.839478</td>\n",
       "      <td>17.835819</td>\n",
       "      <td>0.877588</td>\n",
       "    </tr>\n",
       "    <tr>\n",
       "      <th>1</th>\n",
       "      <td>RandomForest_Train</td>\n",
       "      <td>Drop Med-High Corr Columns</td>\n",
       "      <td>602.450065</td>\n",
       "      <td>24.544858</td>\n",
       "      <td>16.660132</td>\n",
       "      <td>17.611503</td>\n",
       "      <td>0.880395</td>\n",
       "    </tr>\n",
       "    <tr>\n",
       "      <th>1</th>\n",
       "      <td>RandomForest_Train</td>\n",
       "      <td>Corr_Feature Importance</td>\n",
       "      <td>720.619111</td>\n",
       "      <td>26.844350</td>\n",
       "      <td>18.121041</td>\n",
       "      <td>19.454369</td>\n",
       "      <td>0.856935</td>\n",
       "    </tr>\n",
       "    <tr>\n",
       "      <th>1</th>\n",
       "      <td>RandomForest_GS_PCA_Train</td>\n",
       "      <td>PCA</td>\n",
       "      <td>1538.729039</td>\n",
       "      <td>39.226637</td>\n",
       "      <td>28.443706</td>\n",
       "      <td>29.834608</td>\n",
       "      <td>0.694514</td>\n",
       "    </tr>\n",
       "    <tr>\n",
       "      <th>1</th>\n",
       "      <td>RandomForest_GS_Log_Train</td>\n",
       "      <td>Log Transformation</td>\n",
       "      <td>1394.759793</td>\n",
       "      <td>37.346483</td>\n",
       "      <td>23.944261</td>\n",
       "      <td>20.626956</td>\n",
       "      <td>0.723097</td>\n",
       "    </tr>\n",
       "    <tr>\n",
       "      <th>1</th>\n",
       "      <td>RandomForest_GS_Log_Train</td>\n",
       "      <td>Log Transform_Feat. Imp.</td>\n",
       "      <td>1729.057930</td>\n",
       "      <td>41.581942</td>\n",
       "      <td>26.965803</td>\n",
       "      <td>23.321603</td>\n",
       "      <td>0.656728</td>\n",
       "    </tr>\n",
       "  </tbody>\n",
       "</table>\n",
       "</div>"
      ],
      "text/plain": [
       "                       Model                Optimization          MSE  \\\n",
       "1         RandomForest_Train                 Grid Search  1176.504183   \n",
       "1         RandomForest_Train          Feature Importance   616.585945   \n",
       "1         RandomForest_Train  Drop Med-High Corr Columns   602.450065   \n",
       "1         RandomForest_Train     Corr_Feature Importance   720.619111   \n",
       "1  RandomForest_GS_PCA_Train                         PCA  1538.729039   \n",
       "1  RandomForest_GS_Log_Train          Log Transformation  1394.759793   \n",
       "1  RandomForest_GS_Log_Train    Log Transform_Feat. Imp.  1729.057930   \n",
       "\n",
       "        RMSE        MAE       MAPE        R2  \n",
       "1  34.300207  24.227952  25.038833  0.766427  \n",
       "1  24.831149  16.839478  17.835819  0.877588  \n",
       "1  24.544858  16.660132  17.611503  0.880395  \n",
       "1  26.844350  18.121041  19.454369  0.856935  \n",
       "1  39.226637  28.443706  29.834608  0.694514  \n",
       "1  37.346483  23.944261  20.626956  0.723097  \n",
       "1  41.581942  26.965803  23.321603  0.656728  "
      ]
     },
     "execution_count": 78,
     "metadata": {},
     "output_type": "execute_result"
    }
   ],
   "source": [
    "# train_metrics = train_metrics.sort_values(by=[\"MAE\"])\n",
    "train_metrics = train_metrics[['Model', 'Optimization', 'MSE', 'RMSE', 'MAE', 'MAPE', 'R2']]\n",
    "train_metrics"
   ]
  },
  {
   "attachments": {},
   "cell_type": "markdown",
   "metadata": {},
   "source": [
    "Compare train vs test"
   ]
  },
  {
   "cell_type": "code",
   "execution_count": 79,
   "metadata": {},
   "outputs": [
    {
     "data": {
      "text/html": [
       "<div>\n",
       "<style scoped>\n",
       "    .dataframe tbody tr th:only-of-type {\n",
       "        vertical-align: middle;\n",
       "    }\n",
       "\n",
       "    .dataframe tbody tr th {\n",
       "        vertical-align: top;\n",
       "    }\n",
       "\n",
       "    .dataframe thead th {\n",
       "        text-align: right;\n",
       "    }\n",
       "</style>\n",
       "<table border=\"1\" class=\"dataframe\">\n",
       "  <thead>\n",
       "    <tr style=\"text-align: right;\">\n",
       "      <th></th>\n",
       "      <th>Optimization</th>\n",
       "      <th>MAE_Test</th>\n",
       "      <th>MAE_Train</th>\n",
       "      <th>MAPE_Test</th>\n",
       "      <th>MAPE_Train</th>\n",
       "      <th>RMSE_Test</th>\n",
       "      <th>RMSE_Train</th>\n",
       "      <th>R2_Test</th>\n",
       "      <th>R2_Train</th>\n",
       "    </tr>\n",
       "  </thead>\n",
       "  <tbody>\n",
       "    <tr>\n",
       "      <th>0</th>\n",
       "      <td>Grid Search</td>\n",
       "      <td>39.936086</td>\n",
       "      <td>24.227952</td>\n",
       "      <td>41.865388</td>\n",
       "      <td>25.038833</td>\n",
       "      <td>54.811239</td>\n",
       "      <td>34.300207</td>\n",
       "      <td>0.397212</td>\n",
       "      <td>0.766427</td>\n",
       "    </tr>\n",
       "    <tr>\n",
       "      <th>1</th>\n",
       "      <td>Feature Importance</td>\n",
       "      <td>40.812764</td>\n",
       "      <td>16.839478</td>\n",
       "      <td>42.810777</td>\n",
       "      <td>17.835819</td>\n",
       "      <td>56.120205</td>\n",
       "      <td>24.831149</td>\n",
       "      <td>0.368078</td>\n",
       "      <td>0.877588</td>\n",
       "    </tr>\n",
       "    <tr>\n",
       "      <th>2</th>\n",
       "      <td>Drop Med-High Corr Columns</td>\n",
       "      <td>40.537104</td>\n",
       "      <td>16.660132</td>\n",
       "      <td>42.343562</td>\n",
       "      <td>17.611503</td>\n",
       "      <td>55.897785</td>\n",
       "      <td>24.544858</td>\n",
       "      <td>0.373077</td>\n",
       "      <td>0.880395</td>\n",
       "    </tr>\n",
       "    <tr>\n",
       "      <th>3</th>\n",
       "      <td>Corr_Feature Importance</td>\n",
       "      <td>42.861947</td>\n",
       "      <td>18.121041</td>\n",
       "      <td>45.366230</td>\n",
       "      <td>19.454369</td>\n",
       "      <td>58.390481</td>\n",
       "      <td>26.844350</td>\n",
       "      <td>0.315916</td>\n",
       "      <td>0.856935</td>\n",
       "    </tr>\n",
       "    <tr>\n",
       "      <th>4</th>\n",
       "      <td>PCA</td>\n",
       "      <td>41.519490</td>\n",
       "      <td>28.443706</td>\n",
       "      <td>0.436321</td>\n",
       "      <td>29.834608</td>\n",
       "      <td>56.551689</td>\n",
       "      <td>39.226637</td>\n",
       "      <td>0.358323</td>\n",
       "      <td>0.694514</td>\n",
       "    </tr>\n",
       "    <tr>\n",
       "      <th>5</th>\n",
       "      <td>Log Transformation</td>\n",
       "      <td>38.180194</td>\n",
       "      <td>23.944261</td>\n",
       "      <td>35.491046</td>\n",
       "      <td>20.626956</td>\n",
       "      <td>55.501074</td>\n",
       "      <td>37.346483</td>\n",
       "      <td>0.381944</td>\n",
       "      <td>0.723097</td>\n",
       "    </tr>\n",
       "    <tr>\n",
       "      <th>6</th>\n",
       "      <td>Log Transform_Feat. Imp.</td>\n",
       "      <td>40.166099</td>\n",
       "      <td>26.965803</td>\n",
       "      <td>37.721992</td>\n",
       "      <td>23.321603</td>\n",
       "      <td>57.761694</td>\n",
       "      <td>41.581942</td>\n",
       "      <td>0.330570</td>\n",
       "      <td>0.656728</td>\n",
       "    </tr>\n",
       "  </tbody>\n",
       "</table>\n",
       "</div>"
      ],
      "text/plain": [
       "                 Optimization   MAE_Test  MAE_Train  MAPE_Test  MAPE_Train  \\\n",
       "0                 Grid Search  39.936086  24.227952  41.865388   25.038833   \n",
       "1          Feature Importance  40.812764  16.839478  42.810777   17.835819   \n",
       "2  Drop Med-High Corr Columns  40.537104  16.660132  42.343562   17.611503   \n",
       "3     Corr_Feature Importance  42.861947  18.121041  45.366230   19.454369   \n",
       "4                         PCA  41.519490  28.443706   0.436321   29.834608   \n",
       "5          Log Transformation  38.180194  23.944261  35.491046   20.626956   \n",
       "6    Log Transform_Feat. Imp.  40.166099  26.965803  37.721992   23.321603   \n",
       "\n",
       "   RMSE_Test  RMSE_Train   R2_Test  R2_Train  \n",
       "0  54.811239   34.300207  0.397212  0.766427  \n",
       "1  56.120205   24.831149  0.368078  0.877588  \n",
       "2  55.897785   24.544858  0.373077  0.880395  \n",
       "3  58.390481   26.844350  0.315916  0.856935  \n",
       "4  56.551689   39.226637  0.358323  0.694514  \n",
       "5  55.501074   37.346483  0.381944  0.723097  \n",
       "6  57.761694   41.581942  0.330570  0.656728  "
      ]
     },
     "execution_count": 79,
     "metadata": {},
     "output_type": "execute_result"
    }
   ],
   "source": [
    "train_test_comp = pd.merge(train_metrics[[\"Optimization\", \"MAE\", \"MAPE\", \"RMSE\", \"R2\"]], test_metrics[[\"Optimization\", \"MAE\", \"MAPE\", \"RMSE\", \"R2\"]], \n",
    "                           on=\"Optimization\", how=\"left\")\n",
    "train_test_comp = train_test_comp.rename({\"MAE_x\": \"MAE_Train\",\n",
    "                                          \"MAE_y\": \"MAE_Test\",\n",
    "                                          \"MAPE_x\": \"MAPE_Train\",\n",
    "                                          \"MAPE_y\": \"MAPE_Test\",\n",
    "                                          \"RMSE_x\": \"RMSE_Train\",\n",
    "                                          \"RMSE_y\": \"RMSE_Test\",\n",
    "                                          \"R2_x\": \"R2_Train\",\n",
    "                                          \"R2_y\": \"R2_Test\"}, axis=1)\n",
    "train_test_comp = train_test_comp[[\"Optimization\", \"MAE_Test\", \"MAE_Train\", \"MAPE_Test\", \"MAPE_Train\", \"RMSE_Test\", \"RMSE_Train\",\n",
    "                                   \"R2_Test\", \"R2_Train\"]]\n",
    "# train_test_comp = train_test_comp.sort_values(by=\"MAE_Test\").reset_index().drop(\"index\", axis=1)\n",
    "train_test_comp"
   ]
  },
  {
   "attachments": {},
   "cell_type": "markdown",
   "metadata": {},
   "source": [
    "Guarda el mejor modelo"
   ]
  },
  {
   "cell_type": "code",
   "execution_count": 80,
   "metadata": {},
   "outputs": [],
   "source": [
    "# Save the model using pickle\n",
    "with open(\"big_best_model.pkl\", \"wb\") as f:\n",
    "    pickle.dump(rf_log, f)"
   ]
  },
  {
   "cell_type": "code",
   "execution_count": null,
   "metadata": {},
   "outputs": [],
   "source": []
  },
  {
   "attachments": {},
   "cell_type": "markdown",
   "metadata": {},
   "source": [
    "## Análisis"
   ]
  },
  {
   "attachments": {},
   "cell_type": "markdown",
   "metadata": {},
   "source": [
    "### Modelos"
   ]
  },
  {
   "attachments": {},
   "cell_type": "markdown",
   "metadata": {},
   "source": [
    "Desde el punto de vista técnica:\n",
    "- Después de hacer varias pruebas para optimizar el modelo base, el mejor MAE en test se conseguió cuando:\n",
    "\t- le apliqué la transformación logarítmica al target (price)\n",
    "\t- utilicé el baseline model (Random Forest Regressor) con los mejores hipérparámetros de Grid Search del dataset pequeño.\n",
    "<br><br>\n",
    "- El MAE después de optimizar es 38.18 que es mejor que el MAE del modelo base (MAE: 40.53). Mientras el RMSE de este modelo optimizado es 55.50 con lo cual es un poco más alto que él del modelo base (RMSE: 54.81). \n",
    "<br><br>\n",
    "- Hay overfitting porque me salió un error más grande en test que en el train, pero no se puede bajar más el error después de varias pruebas distintas. He mirado un trabajo similar de otra gente en este [link](https://github.com/yoojin-kathleen/airbnb-price/blob/main/Team_11_Airbnb.ipynb) que hizo una predicción en el caso de Airbnb EE.UU y obtuvieron un MAE de 50-58 (depende del modelo) sobre el precio promedio de 184 que es más o menos igual que las métricas he obtenido. Si tuviese más datos con más features, quizás podría obtener mejores métricas.\n",
    "<br><br>\n",
    "- Después de reducir las columnas menos significativas, hay 15 features que contibuyen un 86% (suma cumulativa) al rendimiento del modelo. Sin embargo, entrenando con sólo esos 15 features no mejora el MAE y el RMSE."
   ]
  },
  {
   "attachments": {},
   "cell_type": "markdown",
   "metadata": {},
   "source": [
    "Desde el punto de vista de negocio:\n",
    "- Hay un margen de error de 38 EUR approximadamente lo que sigfinifica que el precio de alquiler puede ser 38 EUR más o 38 EUR menos del precio real. Por ejemplo, si cogemos el precio promedio de 116 EUR/noche, el margen será entre 78 y 154 EUR/noche. El número promedio de dormitorios es 2, así que, sería entre 39 EUR/noche/dormitorio y 77 EUR/noche/dormitorio, lo que coincide con lo que dice Airbnb en su [página web](https://www.airbnb.es/host/homes?room_type=PRIVATE_ROOM&adults=2)."
   ]
  },
  {
   "attachments": {},
   "cell_type": "markdown",
   "metadata": {},
   "source": [
    "Recomendación:\n",
    "- Si un propietario quiere alquilar su alojamiento a corto plazo, se aconsejaría utilizar el límite superior del precio que es un 154 EUR/noche (para un alojamiento de 2 dormitorios). Así, con la tasa aproximada de ocupación de un 80% (suponiendo que es un alquiler de verano de 3 meses), podría ganar aprox. 11.000 EUR/año bruto.\n",
    "- Si un propietario quiere alquilar su alojamiento a largo plazo,  se aconsejaría utilizar el límite inferior del precio que es un 78 EUR/noche (para un alojamiento de 2 dormitorios). Así, con la tasa aproximada de ocupación de un 60%, podría ganar aprox. 17.000 EUR/año bruto. Se puede consultar al cálculo de abajo para más detalle."
   ]
  },
  {
   "attachments": {},
   "cell_type": "markdown",
   "metadata": {},
   "source": [
    "### Cálculo del precio de alquiler de Aibrnb"
   ]
  },
  {
   "cell_type": "code",
   "execution_count": 54,
   "metadata": {},
   "outputs": [
    {
     "data": {
      "text/html": [
       "<div>\n",
       "<style scoped>\n",
       "    .dataframe tbody tr th:only-of-type {\n",
       "        vertical-align: middle;\n",
       "    }\n",
       "\n",
       "    .dataframe tbody tr th {\n",
       "        vertical-align: top;\n",
       "    }\n",
       "\n",
       "    .dataframe thead th {\n",
       "        text-align: right;\n",
       "    }\n",
       "</style>\n",
       "<table border=\"1\" class=\"dataframe\">\n",
       "  <thead>\n",
       "    <tr style=\"text-align: right;\">\n",
       "      <th></th>\n",
       "      <th>Month</th>\n",
       "      <th>Occupancy Rate</th>\n",
       "    </tr>\n",
       "  </thead>\n",
       "  <tbody>\n",
       "    <tr>\n",
       "      <th>0</th>\n",
       "      <td>Jan</td>\n",
       "      <td>0.5</td>\n",
       "    </tr>\n",
       "    <tr>\n",
       "      <th>1</th>\n",
       "      <td>Feb</td>\n",
       "      <td>0.5</td>\n",
       "    </tr>\n",
       "    <tr>\n",
       "      <th>2</th>\n",
       "      <td>Mar</td>\n",
       "      <td>0.5</td>\n",
       "    </tr>\n",
       "    <tr>\n",
       "      <th>3</th>\n",
       "      <td>Apr</td>\n",
       "      <td>0.5</td>\n",
       "    </tr>\n",
       "    <tr>\n",
       "      <th>4</th>\n",
       "      <td>May</td>\n",
       "      <td>0.5</td>\n",
       "    </tr>\n",
       "    <tr>\n",
       "      <th>5</th>\n",
       "      <td>Jun</td>\n",
       "      <td>0.8</td>\n",
       "    </tr>\n",
       "    <tr>\n",
       "      <th>6</th>\n",
       "      <td>Jul</td>\n",
       "      <td>0.8</td>\n",
       "    </tr>\n",
       "    <tr>\n",
       "      <th>7</th>\n",
       "      <td>Aug</td>\n",
       "      <td>0.8</td>\n",
       "    </tr>\n",
       "    <tr>\n",
       "      <th>8</th>\n",
       "      <td>Sep</td>\n",
       "      <td>0.5</td>\n",
       "    </tr>\n",
       "    <tr>\n",
       "      <th>9</th>\n",
       "      <td>Oct</td>\n",
       "      <td>0.5</td>\n",
       "    </tr>\n",
       "    <tr>\n",
       "      <th>10</th>\n",
       "      <td>Nov</td>\n",
       "      <td>0.5</td>\n",
       "    </tr>\n",
       "    <tr>\n",
       "      <th>11</th>\n",
       "      <td>Dec</td>\n",
       "      <td>0.5</td>\n",
       "    </tr>\n",
       "  </tbody>\n",
       "</table>\n",
       "</div>"
      ],
      "text/plain": [
       "   Month  Occupancy Rate\n",
       "0    Jan             0.5\n",
       "1    Feb             0.5\n",
       "2    Mar             0.5\n",
       "3    Apr             0.5\n",
       "4    May             0.5\n",
       "5    Jun             0.8\n",
       "6    Jul             0.8\n",
       "7    Aug             0.8\n",
       "8    Sep             0.5\n",
       "9    Oct             0.5\n",
       "10   Nov             0.5\n",
       "11   Dec             0.5"
      ]
     },
     "execution_count": 54,
     "metadata": {},
     "output_type": "execute_result"
    }
   ],
   "source": [
    "occupancy_rate = [(\"Jan\", 0.5),\n",
    "                  (\"Feb\", 0.5),\n",
    "                  (\"Mar\", 0.5),\n",
    "                  (\"Apr\", 0.5),\n",
    "                  (\"May\", 0.5),\n",
    "                  (\"Jun\", 0.8),\n",
    "                  (\"Jul\", 0.8),\n",
    "                  (\"Aug\", 0.8),\n",
    "                  (\"Sep\", 0.5),\n",
    "                  (\"Oct\", 0.5),\n",
    "                  (\"Nov\", 0.5),\n",
    "                  (\"Dec\", 0.5)]\n",
    "\n",
    "occupancy_rate_df = pd.DataFrame(occupancy_rate, columns=[\"Month\", \"Occupancy Rate\"])\n",
    "occupancy_rate_df"
   ]
  },
  {
   "cell_type": "code",
   "execution_count": 60,
   "metadata": {},
   "outputs": [
    {
     "name": "stdout",
     "output_type": "stream",
     "text": [
      "Tasa de ocupación-corto plazo: 0.8\n",
      "Tasa de ocupación-largo plazo: 0.6 \n",
      "\n",
      "Precio promedio (EUR/noche): 116.0\n",
      "Margen de error (EUR/noche): 38.0\n",
      "Límite inferior de precio (EUR/noche): 78.0\n",
      "Límite superior de precio (EUR/noche): 154.0\n"
     ]
    }
   ],
   "source": [
    "summer = (\"Jun\", \"Jul\", \"Aug\")\n",
    "\n",
    "occup_rate_short = round(occupancy_rate_df[occupancy_rate_df[\"Month\"].isin(summer)][\"Occupancy Rate\"].mean(), 1)\n",
    "print(\"Tasa de ocupación-corto plazo:\", occup_rate_short)\n",
    "occup_rate_long = round(occupancy_rate_df[\"Occupancy Rate\"].mean(), 1)\n",
    "print(\"Tasa de ocupación-largo plazo:\", occup_rate_long, \"\\n\")\n",
    "\n",
    "avg_price = round(big_data_5[\"price\"].mean(), 0)\n",
    "print(\"Precio promedio (EUR/noche):\", avg_price)\n",
    "\n",
    "error_margin = round(test_metrics[test_metrics[\"MAE\"] == test_metrics[\"MAE\"].min()][\"MAE\"].values[0], 0)\n",
    "print(\"Margen de error (EUR/noche):\", error_margin)\n",
    "\n",
    "lower_price_limit = avg_price - error_margin\n",
    "upper_price_limit = avg_price + error_margin\n",
    "print(\"Límite inferior de precio (EUR/noche):\", lower_price_limit)\n",
    "print(\"Límite superior de precio (EUR/noche):\", upper_price_limit)\n"
   ]
  },
  {
   "cell_type": "code",
   "execution_count": 61,
   "metadata": {},
   "outputs": [
    {
     "name": "stdout",
     "output_type": "stream",
     "text": [
      "[1404.0, 2808.0, 4212.0, 17082.0]\n",
      "[3696.0, 7392.0, 11088.0, 44968.0]\n"
     ]
    }
   ],
   "source": [
    "availability_days = [30, 60, 90, 365]\n",
    "\n",
    "lower_profit_rental = []\n",
    "upper_profit_rental = []\n",
    "\n",
    "for i in availability_days:\n",
    "    low = round((lower_price_limit * i * occup_rate_long), 0)\n",
    "    lower_profit_rental.append(low)\n",
    "    high = round((upper_price_limit * i * occup_rate_short), 0)\n",
    "    upper_profit_rental.append(high)\n",
    "\n",
    "print(lower_profit_rental)\n",
    "\n",
    "print(upper_profit_rental)\n"
   ]
  },
  {
   "cell_type": "code",
   "execution_count": 62,
   "metadata": {},
   "outputs": [
    {
     "name": "stderr",
     "output_type": "stream",
     "text": [
      "C:\\Users\\Selvie\\AppData\\Local\\Temp\\ipykernel_7236\\459540907.py:3: FutureWarning: The frame.append method is deprecated and will be removed from pandas in a future version. Use pandas.concat instead.\n",
      "  rental_profit_all = rental_profit_all.append(pd.Series(lower_profit_rental, index=rental_profit_all.columns), ignore_index=True)\n",
      "C:\\Users\\Selvie\\AppData\\Local\\Temp\\ipykernel_7236\\459540907.py:4: FutureWarning: The frame.append method is deprecated and will be removed from pandas in a future version. Use pandas.concat instead.\n",
      "  rental_profit_all = rental_profit_all.append(pd.Series(upper_profit_rental, index=rental_profit_all.columns), ignore_index=True)\n"
     ]
    },
    {
     "data": {
      "text/html": [
       "<div>\n",
       "<style scoped>\n",
       "    .dataframe tbody tr th:only-of-type {\n",
       "        vertical-align: middle;\n",
       "    }\n",
       "\n",
       "    .dataframe tbody tr th {\n",
       "        vertical-align: top;\n",
       "    }\n",
       "\n",
       "    .dataframe thead th {\n",
       "        text-align: right;\n",
       "    }\n",
       "</style>\n",
       "<table border=\"1\" class=\"dataframe\">\n",
       "  <thead>\n",
       "    <tr style=\"text-align: right;\">\n",
       "      <th></th>\n",
       "      <th>Price Limit</th>\n",
       "      <th>Price(EUR/night)-2_bedrooms</th>\n",
       "      <th>availability_30</th>\n",
       "      <th>availability_60</th>\n",
       "      <th>availability_90</th>\n",
       "      <th>availability_365</th>\n",
       "    </tr>\n",
       "  </thead>\n",
       "  <tbody>\n",
       "    <tr>\n",
       "      <th>0</th>\n",
       "      <td>Lower price limit_long term</td>\n",
       "      <td>78.0</td>\n",
       "      <td>1404.0</td>\n",
       "      <td>2808.0</td>\n",
       "      <td>4212.0</td>\n",
       "      <td>17082.0</td>\n",
       "    </tr>\n",
       "    <tr>\n",
       "      <th>1</th>\n",
       "      <td>Upper price limit_short term</td>\n",
       "      <td>154.0</td>\n",
       "      <td>3696.0</td>\n",
       "      <td>7392.0</td>\n",
       "      <td>11088.0</td>\n",
       "      <td>44968.0</td>\n",
       "    </tr>\n",
       "  </tbody>\n",
       "</table>\n",
       "</div>"
      ],
      "text/plain": [
       "                    Price Limit  Price(EUR/night)-2_bedrooms  availability_30  \\\n",
       "0   Lower price limit_long term                         78.0           1404.0   \n",
       "1  Upper price limit_short term                        154.0           3696.0   \n",
       "\n",
       "   availability_60  availability_90  availability_365  \n",
       "0           2808.0           4212.0           17082.0  \n",
       "1           7392.0          11088.0           44968.0  "
      ]
     },
     "execution_count": 62,
     "metadata": {},
     "output_type": "execute_result"
    }
   ],
   "source": [
    "rental_profit_all = pd.DataFrame(columns=[\"availability_30\", \"availability_60\", \"availability_90\",\n",
    "                                          \"availability_365\"])\n",
    "rental_profit_all = rental_profit_all.append(pd.Series(lower_profit_rental, index=rental_profit_all.columns), ignore_index=True)\n",
    "rental_profit_all = rental_profit_all.append(pd.Series(upper_profit_rental, index=rental_profit_all.columns), ignore_index=True)\n",
    "rental_profit_all[\"Price(EUR/night)-2_bedrooms\"] = [lower_price_limit, upper_price_limit]\n",
    "rental_profit_all[\"Price Limit\"] = [\"Lower price limit_long term\", \"Upper price limit_short term\"]\n",
    "rental_profit_all = rental_profit_all[[\"Price Limit\", \"Price(EUR/night)-2_bedrooms\", \"availability_30\", \"availability_60\", \"availability_90\", \n",
    "                                       \"availability_365\"]]\n",
    "rental_profit_all"
   ]
  },
  {
   "cell_type": "code",
   "execution_count": 63,
   "metadata": {},
   "outputs": [
    {
     "name": "stdout",
     "output_type": "stream",
     "text": [
      "Beneficio bruto aprox-largo plazo (EUR/año): 17082.0\n",
      "Beneficio bruto aprox-corto plazo (EUR/año): 11088.0\n"
     ]
    }
   ],
   "source": [
    "long_rental_profit = rental_profit_all.loc[0, \"availability_365\"]\n",
    "print(\"Beneficio bruto aprox-largo plazo (EUR/año):\", long_rental_profit)\n",
    "\n",
    "short_rental_profit = rental_profit_all.loc[1, \"availability_90\"]\n",
    "print(\"Beneficio bruto aprox-corto plazo (EUR/año):\", short_rental_profit)"
   ]
  },
  {
   "attachments": {},
   "cell_type": "markdown",
   "metadata": {},
   "source": [
    "### Feature Importances"
   ]
  },
  {
   "attachments": {},
   "cell_type": "markdown",
   "metadata": {},
   "source": [
    "Los factores que más influyen en el precio (88% de contribución) son:\n",
    "- disponibilidad (30, 60, 90, 365) --> los priopietarios de Airbnb tienen flexibilidad de gestionar la disponibilidad de su alojamiento. Sin embargo, hay una regulación de días de disponibilidad. Si un alojamiento tiene una disponibilidad de 30 a 90, sólo puede estar alquilado a corto plazo (30 significa 30 días al año, 90 significa 90 días al año). Una vez que haya alcanzado su límite, Airbnb cerrará automáticamente las reservas de su propiedad hasta el final del año calendario. El límite de 90 días se aplica tanto a 90 días consecutivos como a 90 días repartidos a lo largo del año.\n",
    "- tipo de alojamiento (habitación compartida, habitación privada, habitación de hotel, casa/piso entero)\n",
    "- número de reseñas --> cuanto más reseñas tenga un alojamiento, más demandado será porque la gente se alojó allí y le dejaron sus reseñas. Así que, es normal si el precio de un alojamiento más demandado sería más alto.\n",
    "- duración de estancia requerida --> un alojamiento que requiere una estancia mínima de 1 noche sería un poquito más caro que uno con requerimiento de 30 noches.\n",
    "- número de viajeros alojados en alojamientos turísticos (datos externos del INE) --> estos datos representan la demanda de los alojamientos turísticos de cada comunidad"
   ]
  },
  {
   "cell_type": "code",
   "execution_count": 64,
   "metadata": {},
   "outputs": [
    {
     "data": {
      "image/png": "[encoded data removed]",
      "text/plain": [
       "<Figure size 640x480 with 1 Axes>"
      ]
     },
     "metadata": {},
     "output_type": "display_data"
    }
   ],
   "source": [
    "# Las primeras 15 columnas tienen una suma cumulativa de importancia de 0.881349\n",
    "sorted_importances = feat_imp_redcols_2[:7].sort_values(by=\"Importance\", ascending=True)\n",
    "ax = sorted_importances.plot.barh(x=\"Feature\", y=\"Importance\")\n",
    "ax.set_title(\"Top 15 Features - Airbnb Rental Price ES\")\n",
    "plt.show()"
   ]
  },
  {
   "cell_type": "code",
   "execution_count": 65,
   "metadata": {},
   "outputs": [
    {
     "data": {
      "image/png": "[encoded data removed]",
      "text/plain": [
       "<Figure size 640x480 with 2 Axes>"
      ]
     },
     "metadata": {},
     "output_type": "display_data"
    }
   ],
   "source": [
    "sns.heatmap(big_data_5[[\"availability_365\", \"room_type\", \"reviews_per_month\", \"price\"]].corr(),\n",
    "            annot=True);"
   ]
  },
  {
   "cell_type": "code",
   "execution_count": 66,
   "metadata": {},
   "outputs": [
    {
     "data": {
      "text/plain": [
       "count    90577.000000\n",
       "mean       115.982490\n",
       "std         70.897462\n",
       "min         20.000000\n",
       "25%         64.000000\n",
       "50%         99.000000\n",
       "75%        150.000000\n",
       "max        348.000000\n",
       "Name: price, dtype: float64"
      ]
     },
     "execution_count": 66,
     "metadata": {},
     "output_type": "execute_result"
    }
   ],
   "source": [
    "big_data_5[\"price\"].describe()"
   ]
  },
  {
   "attachments": {},
   "cell_type": "markdown",
   "metadata": {},
   "source": [
    "Mira la distribución de precios"
   ]
  },
  {
   "cell_type": "code",
   "execution_count": 67,
   "metadata": {},
   "outputs": [
    {
     "data": {
      "image/png": "[encoded data removed]",
      "text/plain": [
       "<Figure size 500x500 with 1 Axes>"
      ]
     },
     "metadata": {},
     "output_type": "display_data"
    }
   ],
   "source": [
    "sns.displot(big_data_5[\"price\"]);"
   ]
  },
  {
   "attachments": {},
   "cell_type": "markdown",
   "metadata": {},
   "source": [
    "Comentario:\n",
    "- Los precios muestran una distribución sesgada a la derecha"
   ]
  },
  {
   "attachments": {},
   "cell_type": "markdown",
   "metadata": {},
   "source": [
    "Mira cuántos alojamientos tienen licencia turística"
   ]
  },
  {
   "cell_type": "code",
   "execution_count": 68,
   "metadata": {},
   "outputs": [
    {
     "data": {
      "text/plain": [
       "license\n",
       "0.0    36961\n",
       "1.0    53616\n",
       "Name: id, dtype: int64"
      ]
     },
     "execution_count": 68,
     "metadata": {},
     "output_type": "execute_result"
    }
   ],
   "source": [
    "big_data_5.groupby(\"license\")[\"id\"].count()"
   ]
  },
  {
   "cell_type": "code",
   "execution_count": 69,
   "metadata": {},
   "outputs": [
    {
     "data": {
      "text/plain": [
       "90577"
      ]
     },
     "execution_count": 69,
     "metadata": {},
     "output_type": "execute_result"
    }
   ],
   "source": [
    "big_data_5.groupby(\"license\")[\"id\"].count().sum()"
   ]
  },
  {
   "cell_type": "code",
   "execution_count": 70,
   "metadata": {},
   "outputs": [
    {
     "data": {
      "text/plain": [
       "0.5919383507954558"
      ]
     },
     "execution_count": 70,
     "metadata": {},
     "output_type": "execute_result"
    }
   ],
   "source": [
    "53616/90577"
   ]
  },
  {
   "attachments": {},
   "cell_type": "markdown",
   "metadata": {},
   "source": [
    "Comentario:\n",
    "- Hay un 60% de alojamientos que tienen licencia turística."
   ]
  },
  {
   "attachments": {},
   "cell_type": "markdown",
   "metadata": {},
   "source": [
    "Mira cuánto es el precio de alojamientos sin licencia y con licencia"
   ]
  },
  {
   "cell_type": "code",
   "execution_count": 71,
   "metadata": {},
   "outputs": [
    {
     "data": {
      "text/plain": [
       "license\n",
       "0.0     97.759043\n",
       "1.0    128.545098\n",
       "Name: price, dtype: float64"
      ]
     },
     "execution_count": 71,
     "metadata": {},
     "output_type": "execute_result"
    }
   ],
   "source": [
    "big_data_5.groupby(\"license\")[\"price\"].mean()"
   ]
  },
  {
   "cell_type": "code",
   "execution_count": 72,
   "metadata": {},
   "outputs": [
    {
     "data": {
      "text/plain": [
       "license\n",
       "0.0     80.0\n",
       "1.0    110.0\n",
       "Name: price, dtype: float64"
      ]
     },
     "execution_count": 72,
     "metadata": {},
     "output_type": "execute_result"
    }
   ],
   "source": [
    "big_data_5.groupby(\"license\")[\"price\"].median()"
   ]
  },
  {
   "cell_type": "code",
   "execution_count": null,
   "metadata": {},
   "outputs": [],
   "source": []
  },
  {
   "attachments": {},
   "cell_type": "markdown",
   "metadata": {},
   "source": [
    "Referencias:\n",
    "- Airbnb 90-day availability rule: [link1](https://www.elconfidencial.com/economia/2018-09-29/solo-el-15-de-los-airbnb-madrilenos-es-mas-rentable-que-los-alquileres-a-largo-plazo_1620414/), [link2](https://www.theupperkey.com/post/what-is-the-airbnb-90-day-rule#:~:text=The%20first%20option%20is%20to,fully%20compliant%20with%20the%20regulations.), [link3](https://www.houst.com/knowledge/the-90-day-airbnb-rule-and-what-it-means-to-you#:~:text=This%20means%20a%20property%20can,days%20spread%20throughout%20the%20year.)\n",
    "- Airbnb ML Study Case: [Airbnb US](https://github.com/yoojin-kathleen/airbnb-price/blob/main/Team_11_Airbnb.ipynb)"
   ]
  }
 ],
 "metadata": {
  "interpreter": {
   "hash": "7c77fdb427e7cbc9bc1367dd530fc2b36aacdbbde1ac83c85833b10dfa8b831c"
  },
  "kernelspec": {
   "display_name": "Python 3.7.4 64-bit",
   "language": "python",
   "name": "python3"
  },
  "language_info": {
   "codemirror_mode": {
    "name": "ipython",
    "version": 3
   },
   "file_extension": ".py",
   "mimetype": "text/x-python",
   "name": "python",
   "nbconvert_exporter": "python",
   "pygments_lexer": "ipython3",
   "version": "3.9.16"
  },
  "orig_nbformat": 4
 },
 "nbformat": 4,
 "nbformat_minor": 2
}
